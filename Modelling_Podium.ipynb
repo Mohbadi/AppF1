{
 "cells": [
  {
   "cell_type": "code",
   "execution_count": 1,
   "id": "2fd3f45a",
   "metadata": {},
   "outputs": [],
   "source": [
    "import numpy as np\n",
    "import pandas as pd\n",
    "import matplotlib.pyplot as plt\n",
    "\n",
    "from imblearn.over_sampling import SMOTE\n",
    "\n",
    "from sklearn.pipeline import make_pipeline\n",
    "from sklearn.preprocessing import StandardScaler, OneHotEncoder\n",
    "from sklearn.ensemble import RandomForestClassifier, AdaBoostClassifier, GradientBoostingClassifier\n",
    "from sklearn.tree import DecisionTreeClassifier\n",
    "from sklearn.svm import SVC\n",
    "from sklearn.linear_model import LogisticRegression\n",
    "from sklearn.neighbors import KNeighborsClassifier\n",
    "from sklearn.metrics import f1_score,accuracy_score, confusion_matrix, classification_report\n",
    "from sklearn.model_selection import learning_curve\n",
    "\n",
    "from catboost import CatBoostClassifier\n",
    "import xgboost as xgb\n",
    "\n",
    "import optuna"
   ]
  },
  {
   "cell_type": "code",
   "execution_count": 2,
   "id": "5ff833e3",
   "metadata": {},
   "outputs": [],
   "source": [
    "df = pd.read_csv(\"C:/Users/33782/Desktop/Mémoire F1/df_final_2.csv\")"
   ]
  },
  {
   "cell_type": "code",
   "execution_count": null,
   "id": "929affc1",
   "metadata": {},
   "outputs": [],
   "source": [
    "df['Wins'] = df['positionOrder'].le(1).astype(int)"
   ]
  },
  {
   "cell_type": "code",
   "execution_count": null,
   "id": "0252776c",
   "metadata": {},
   "outputs": [],
   "source": [
    "\n",
    "\n",
    "# Calculating the total number of races and top 3 finishes for each driver in each year\n",
    "driver_yearly_stats = df.groupby(['year', 'driverId']).agg(\n",
    "    Total_Races=('raceId', 'nunique'),\n",
    "    Wins=('Wins', 'sum')\n",
    ").reset_index()\n",
    "\n",
    "\n",
    "# Calculating podium rate for each driver in each year\n",
    "driver_yearly_stats['Driver wins rate (This Year)'] = (driver_yearly_stats['Wins'] / driver_yearly_stats['Total_Races'])\n",
    "\n",
    "# Shifting the driver percentages to the next year for last year's data\n",
    "driver_last_year_stats = driver_yearly_stats.copy()\n",
    "driver_last_year_stats['year'] += 1\n",
    "driver_last_year_stats = driver_last_year_stats.rename(columns={'Driver wins rate (This Year)': 'Driver wins rate (Last Year)'})\n",
    "\n",
    "df = df.merge(driver_last_year_stats[['year', 'driverId', 'Driver wins rate (Last Year)']], on=['year', 'driverId'], how='left')\n",
    "\n",
    "df['Driver wins rate (Last Year)'] = df['Driver wins rate (Last Year)'].fillna(0)"
   ]
  },
  {
   "cell_type": "code",
   "execution_count": null,
   "id": "39d4bfea",
   "metadata": {},
   "outputs": [],
   "source": [
    "# Creating a function to calculate the top 3 finish percentage before the current round for drivers\n",
    "def win_rate_until_last_race(current, df):\n",
    "    # Filter for races in the same year, for the same driver, but in earlier rounds\n",
    "    previous_races = df[(df['year'] == current['year']) & (df['driverId'] == current['driverId']) & (df['round'] < current['round'])]\n",
    "    if len(previous_races) == 0:## First race of the year\n",
    "        return pd.NA\n",
    "\n",
    "    total_races = previous_races['raceId'].nunique()\n",
    "    wins = previous_races['Wins'].sum()\n",
    "\n",
    "    # Calculate the percentage\n",
    "    return (wins / total_races) if total_races > 0 else pd.NA\n",
    "\n",
    "# Apply the function to each row in the DataFrame\n",
    "df['Driver wins rate (This Year until last race)'] = df.apply(lambda current: win_rate_until_last_race(current, df), axis=1)"
   ]
  },
  {
   "cell_type": "code",
   "execution_count": null,
   "id": "3c08e59e",
   "metadata": {},
   "outputs": [],
   "source": [
    "for index, row in df.iterrows():\n",
    "    if pd.isna(row['Driver wins rate (This Year until last race)']):\n",
    "        previous_season = row['year'] - 1\n",
    "        races_previous_season = df[(df['year'] == previous_season) & (df['driverId'] == row['driverId'])]\n",
    "        if len(races_previous_season) > 0:\n",
    "            last_race_previous_season = races_previous_season.iloc[-1]\n",
    "            df.at[index, 'Driver wins rate (This Year until last race)'] = last_race_previous_season['Driver wins rate (This Year until last race)']\n",
    "        else:\n",
    "            df.at[index, 'Driver wins rate (This Year until last race)'] = 0\n",
    "\n",
    "df['Driver wins rate (This Year until last race)'] = df['Driver wins rate (This Year until last race)'].fillna(0)"
   ]
  },
  {
   "cell_type": "code",
   "execution_count": 3,
   "id": "a26185b5",
   "metadata": {},
   "outputs": [],
   "source": [
    "# Supposons que vous avez déjà importé votre DataFrame df_final\n",
    "\n",
    "# Sélectionnez les colonnes à encoder\n",
    "columns_to_encode = [\"nationality\"]\n",
    "\n",
    "# Créez une instance de OneHotEncoder\n",
    "encoder = OneHotEncoder(sparse_output=False, handle_unknown='ignore')\n",
    "\n",
    "# Adapter et transformer les colonnes sélectionnées\n",
    "encoded_data = encoder.fit_transform(df[columns_to_encode])\n",
    "\n",
    "# Créez un DataFrame avec les données encodées\n",
    "encoded_df = pd.DataFrame(encoded_data, columns=encoder.get_feature_names_out(columns_to_encode))\n",
    "\n",
    "# Supprimez les colonnes encodées du DataFrame d'origine\n",
    "df.drop(columns=columns_to_encode, inplace=True)\n",
    "\n",
    "# Concaténez le DataFrame original avec le DataFrame encodé\n",
    "df_final = pd.concat([df, encoded_df], axis=1)"
   ]
  },
  {
   "cell_type": "code",
   "execution_count": 4,
   "id": "11d0d04f",
   "metadata": {},
   "outputs": [],
   "source": [
    "df_final[\"positionOrder\"] = df_final[\"positionOrder\"].apply(lambda x: 0 if x > 1 else x)"
   ]
  },
  {
   "cell_type": "code",
   "execution_count": null,
   "id": "6f989013",
   "metadata": {},
   "outputs": [],
   "source": [
    "df_final[\"positionOrder\"].unique()"
   ]
  },
  {
   "cell_type": "code",
   "execution_count": null,
   "id": "edd3eb4d",
   "metadata": {},
   "outputs": [],
   "source": [
    "df_final.drop(columns=[\n",
    "                      \"Driver wins rate (Last Year)\",\n",
    "                      \"Driver wins rate (This Year until last race)\"\n",
    "                     ], inplace=True)"
   ]
  },
  {
   "cell_type": "code",
   "execution_count": 5,
   "id": "777d8622",
   "metadata": {},
   "outputs": [],
   "source": [
    "df_final.drop(columns=[\"Top 3 Finish\", \"Yearofbirth\"], inplace=True)"
   ]
  },
  {
   "cell_type": "code",
   "execution_count": null,
   "id": "b91bec1d",
   "metadata": {},
   "outputs": [],
   "source": [
    "df_final.info()"
   ]
  },
  {
   "cell_type": "code",
   "execution_count": 27,
   "id": "c59d3360",
   "metadata": {},
   "outputs": [],
   "source": [
    "# Create a list of columns excluding the one to move\n",
    "cols = [col for col in df_final.columns if col != 'positionOrder']\n",
    "\n",
    "# Append the column to the end of the DataFrame\n",
    "df_final = df_final[cols + ['positionOrder']]"
   ]
  },
  {
   "cell_type": "code",
   "execution_count": 28,
   "id": "cb383def",
   "metadata": {},
   "outputs": [],
   "source": [
    "train_df = df_final[(df_final[\"year\"] >= 2012) & (df_final[\"year\"] <= 2022)]\n",
    "test_df = df_final[(df_final[\"year\"] >= 2023) & (df_final[\"year\"] <= 2023)]\n",
    "\n",
    "\n",
    "X_train = train_df[train_df.columns.tolist()[:-1]].values\n",
    "y_train = train_df['positionOrder'].values\n",
    "\n",
    "\n",
    "X_test = test_df[train_df.columns.tolist()[:-1]].values\n",
    "y_test = test_df['positionOrder'].values"
   ]
  },
  {
   "cell_type": "code",
   "execution_count": 29,
   "id": "3edb8279",
   "metadata": {},
   "outputs": [],
   "source": [
    "smote = SMOTE(random_state=42)\n",
    "X_train_resampled, y_train_resampled = smote.fit_resample(X_train, y_train)"
   ]
  },
  {
   "cell_type": "code",
   "execution_count": 30,
   "id": "182f9aa2",
   "metadata": {},
   "outputs": [],
   "source": [
    "# Normaliser les caractéristiques\n",
    "scaler = StandardScaler()\n",
    "X_train_scaled = scaler.fit_transform(X_train_resampled)\n",
    "X_test_scaled = scaler.transform(X_test)"
   ]
  },
  {
   "cell_type": "markdown",
   "id": "0ee96064",
   "metadata": {},
   "source": [
    "# GradientBoosting"
   ]
  },
  {
   "cell_type": "code",
   "execution_count": 31,
   "id": "76e69a09",
   "metadata": {},
   "outputs": [
    {
     "name": "stdout",
     "output_type": "stream",
     "text": [
      "\n",
      "Accuracy: 0.9681818181818181\n",
      "\n",
      "Confusion Matrix:\n",
      " [[409   9]\n",
      " [  5  17]]\n",
      "\n",
      "Classification Report:\n",
      "               precision    recall  f1-score   support\n",
      "\n",
      "           0       0.99      0.98      0.98       418\n",
      "           1       0.65      0.77      0.71        22\n",
      "\n",
      "    accuracy                           0.97       440\n",
      "   macro avg       0.82      0.88      0.85       440\n",
      "weighted avg       0.97      0.97      0.97       440\n",
      "\n"
     ]
    }
   ],
   "source": [
    "GB = GradientBoostingClassifier(learning_rate=0.07091174648758228,\n",
    "                                n_estimators=142,\n",
    "                                max_depth=3,\n",
    "                                min_samples_split=4,\n",
    "                                min_samples_leaf=6,\n",
    "                                random_state=42)\n",
    "\n",
    "GB.fit(X_train_scaled, y_train_resampled)\n",
    "\n",
    "# Faire des prédictions sur l'ensemble de test\n",
    "y_pred_gb = GB.predict(X_test_scaled)\n",
    "\n",
    "# Évaluer les performances du meilleur modèle\n",
    "accuracy_gb = accuracy_score(y_test, y_pred_gb)\n",
    "conf_matrix_gb = confusion_matrix(y_test, y_pred_gb)\n",
    "class_report_gb = classification_report(y_test, y_pred_gb)\n",
    "\n",
    "# Afficher les performances\n",
    "print(\"\\nAccuracy:\", accuracy_gb)\n",
    "print(\"\\nConfusion Matrix:\\n\", conf_matrix_gb)\n",
    "print(\"\\nClassification Report:\\n\", class_report_gb)"
   ]
  },
  {
   "cell_type": "code",
   "execution_count": 14,
   "id": "11434615",
   "metadata": {
    "scrolled": true
   },
   "outputs": [
    {
     "name": "stderr",
     "output_type": "stream",
     "text": [
      "[I 2024-05-23 21:42:53,750] A new study created in memory with name: no-name-950cda34-36ce-4d5c-b270-6673db0787db\n",
      "[I 2024-05-23 21:42:57,302] Trial 0 finished with value: 0.5294117647058824 and parameters: {'learning_rate': 0.040539491132887386, 'n_estimators': 35, 'max_depth': 6, 'min_samples_split': 8, 'min_samples_leaf': 4}. Best is trial 0 with value: 0.5294117647058824.\n",
      "[I 2024-05-23 21:43:17,742] Trial 1 finished with value: 0.5294117647058824 and parameters: {'learning_rate': 0.6493250711508132, 'n_estimators': 66, 'max_depth': 9, 'min_samples_split': 20, 'min_samples_leaf': 9}. Best is trial 0 with value: 0.5294117647058824.\n",
      "[I 2024-05-23 21:43:39,139] Trial 2 finished with value: 0.4848484848484849 and parameters: {'learning_rate': 0.6272322429578632, 'n_estimators': 89, 'max_depth': 10, 'min_samples_split': 17, 'min_samples_leaf': 3}. Best is trial 0 with value: 0.5294117647058824.\n",
      "[I 2024-05-23 21:43:49,339] Trial 3 finished with value: 0.6666666666666666 and parameters: {'learning_rate': 0.048136947830338145, 'n_estimators': 160, 'max_depth': 3, 'min_samples_split': 8, 'min_samples_leaf': 6}. Best is trial 3 with value: 0.6666666666666666.\n",
      "[I 2024-05-23 21:44:05,142] Trial 4 finished with value: 0.3684210526315789 and parameters: {'learning_rate': 0.12248923724018955, 'n_estimators': 87, 'max_depth': 10, 'min_samples_split': 19, 'min_samples_leaf': 5}. Best is trial 3 with value: 0.6666666666666666.\n",
      "[I 2024-05-23 21:44:12,584] Trial 5 finished with value: 0.5074626865671642 and parameters: {'learning_rate': 0.012100921607047437, 'n_estimators': 41, 'max_depth': 10, 'min_samples_split': 8, 'min_samples_leaf': 1}. Best is trial 3 with value: 0.6666666666666666.\n",
      "[I 2024-05-23 21:44:32,375] Trial 6 finished with value: 0.3870967741935484 and parameters: {'learning_rate': 0.5455694632891477, 'n_estimators': 143, 'max_depth': 5, 'min_samples_split': 12, 'min_samples_leaf': 3}. Best is trial 3 with value: 0.6666666666666666.\n",
      "[I 2024-05-23 21:44:39,006] Trial 7 finished with value: 0.43636363636363634 and parameters: {'learning_rate': 0.599626111134252, 'n_estimators': 45, 'max_depth': 5, 'min_samples_split': 13, 'min_samples_leaf': 1}. Best is trial 3 with value: 0.6666666666666666.\n",
      "[I 2024-05-23 21:44:49,178] Trial 8 finished with value: 0.46341463414634154 and parameters: {'learning_rate': 0.00533606174259333, 'n_estimators': 71, 'max_depth': 7, 'min_samples_split': 15, 'min_samples_leaf': 9}. Best is trial 3 with value: 0.6666666666666666.\n",
      "[I 2024-05-23 21:45:02,307] Trial 9 finished with value: 0.5365853658536585 and parameters: {'learning_rate': 0.004407267138738908, 'n_estimators': 164, 'max_depth': 4, 'min_samples_split': 9, 'min_samples_leaf': 8}. Best is trial 3 with value: 0.6666666666666666.\n",
      "[I 2024-05-23 21:45:14,588] Trial 10 finished with value: 0.5 and parameters: {'learning_rate': 0.0012486696207738665, 'n_estimators': 199, 'max_depth': 3, 'min_samples_split': 2, 'min_samples_leaf': 7}. Best is trial 3 with value: 0.6666666666666666.\n",
      "[I 2024-05-23 21:45:24,714] Trial 11 finished with value: 0.6909090909090909 and parameters: {'learning_rate': 0.053562491705854, 'n_estimators': 157, 'max_depth': 3, 'min_samples_split': 7, 'min_samples_leaf': 7}. Best is trial 11 with value: 0.6909090909090909.\n",
      "[I 2024-05-23 21:45:33,829] Trial 12 finished with value: 0.7083333333333333 and parameters: {'learning_rate': 0.07091174648758228, 'n_estimators': 142, 'max_depth': 3, 'min_samples_split': 4, 'min_samples_leaf': 6}. Best is trial 12 with value: 0.7083333333333333.\n",
      "[I 2024-05-23 21:45:42,225] Trial 13 finished with value: 0.6818181818181818 and parameters: {'learning_rate': 0.13118556337682585, 'n_estimators': 122, 'max_depth': 3, 'min_samples_split': 3, 'min_samples_leaf': 7}. Best is trial 12 with value: 0.7083333333333333.\n",
      "[I 2024-05-23 21:46:08,570] Trial 14 finished with value: 0.3870967741935484 and parameters: {'learning_rate': 0.12891756268596707, 'n_estimators': 189, 'max_depth': 7, 'min_samples_split': 5, 'min_samples_leaf': 10}. Best is trial 12 with value: 0.7083333333333333.\n",
      "[I 2024-05-23 21:46:41,528] Trial 15 finished with value: 0.5818181818181818 and parameters: {'learning_rate': 0.021678746722928993, 'n_estimators': 128, 'max_depth': 12, 'min_samples_split': 5, 'min_samples_leaf': 6}. Best is trial 12 with value: 0.7083333333333333.\n",
      "[I 2024-05-23 21:47:00,887] Trial 16 finished with value: 0.5263157894736842 and parameters: {'learning_rate': 0.07862759353897533, 'n_estimators': 166, 'max_depth': 5, 'min_samples_split': 5, 'min_samples_leaf': 5}. Best is trial 12 with value: 0.7083333333333333.\n",
      "[I 2024-05-23 21:47:14,736] Trial 17 finished with value: 0.6176470588235293 and parameters: {'learning_rate': 0.020535349410493696, 'n_estimators': 143, 'max_depth': 4, 'min_samples_split': 6, 'min_samples_leaf': 7}. Best is trial 12 with value: 0.7083333333333333.\n",
      "[I 2024-05-23 21:47:34,296] Trial 18 finished with value: 0.5945945945945945 and parameters: {'learning_rate': 0.22382219878974483, 'n_estimators': 108, 'max_depth': 8, 'min_samples_split': 10, 'min_samples_leaf': 8}. Best is trial 12 with value: 0.7083333333333333.\n",
      "[I 2024-05-23 21:47:50,826] Trial 19 finished with value: 0.41379310344827586 and parameters: {'learning_rate': 0.26882132432922357, 'n_estimators': 180, 'max_depth': 4, 'min_samples_split': 3, 'min_samples_leaf': 4}. Best is trial 12 with value: 0.7083333333333333.\n",
      "[I 2024-05-23 21:48:10,225] Trial 20 finished with value: 0.5 and parameters: {'learning_rate': 0.009579751369185065, 'n_estimators': 146, 'max_depth': 6, 'min_samples_split': 6, 'min_samples_leaf': 8}. Best is trial 12 with value: 0.7083333333333333.\n",
      "[I 2024-05-23 21:48:18,928] Trial 21 finished with value: 0.679245283018868 and parameters: {'learning_rate': 0.06537891383817936, 'n_estimators': 119, 'max_depth': 3, 'min_samples_split': 2, 'min_samples_leaf': 7}. Best is trial 12 with value: 0.7083333333333333.\n",
      "[I 2024-05-23 21:48:28,307] Trial 22 finished with value: 0.6666666666666667 and parameters: {'learning_rate': 0.19417505145085623, 'n_estimators': 127, 'max_depth': 3, 'min_samples_split': 4, 'min_samples_leaf': 6}. Best is trial 12 with value: 0.7083333333333333.\n",
      "[I 2024-05-23 21:48:40,538] Trial 23 finished with value: 0.5454545454545454 and parameters: {'learning_rate': 0.09383948939673761, 'n_estimators': 110, 'max_depth': 4, 'min_samples_split': 7, 'min_samples_leaf': 7}. Best is trial 12 with value: 0.7083333333333333.\n",
      "[I 2024-05-23 21:48:52,255] Trial 24 finished with value: 0.6349206349206349 and parameters: {'learning_rate': 0.030317241075499476, 'n_estimators': 151, 'max_depth': 3, 'min_samples_split': 3, 'min_samples_leaf': 5}. Best is trial 12 with value: 0.7083333333333333.\n",
      "[I 2024-05-23 21:49:09,532] Trial 25 finished with value: 0.3333333333333333 and parameters: {'learning_rate': 0.34123859330458534, 'n_estimators': 132, 'max_depth': 6, 'min_samples_split': 4, 'min_samples_leaf': 9}. Best is trial 12 with value: 0.7083333333333333.\n",
      "[I 2024-05-23 21:49:24,066] Trial 26 finished with value: 0.39999999999999997 and parameters: {'learning_rate': 0.15269001807174448, 'n_estimators': 174, 'max_depth': 4, 'min_samples_split': 2, 'min_samples_leaf': 6}. Best is trial 12 with value: 0.7083333333333333.\n",
      "[I 2024-05-23 21:49:33,349] Trial 27 finished with value: 0.5833333333333334 and parameters: {'learning_rate': 0.061774335045521586, 'n_estimators': 99, 'max_depth': 5, 'min_samples_split': 11, 'min_samples_leaf': 8}. Best is trial 12 with value: 0.7083333333333333.\n",
      "[I 2024-05-23 21:50:13,179] Trial 28 finished with value: 0.6666666666666667 and parameters: {'learning_rate': 0.02799713125582796, 'n_estimators': 136, 'max_depth': 12, 'min_samples_split': 6, 'min_samples_leaf': 10}. Best is trial 12 with value: 0.7083333333333333.\n",
      "[I 2024-05-23 21:50:23,770] Trial 29 finished with value: 0.6896551724137931 and parameters: {'learning_rate': 0.03804884229609008, 'n_estimators': 155, 'max_depth': 3, 'min_samples_split': 7, 'min_samples_leaf': 4}. Best is trial 12 with value: 0.7083333333333333.\n"
     ]
    },
    {
     "name": "stdout",
     "output_type": "stream",
     "text": [
      "Best Parameters: {'learning_rate': 0.07091174648758228, 'n_estimators': 142, 'max_depth': 3, 'min_samples_split': 4, 'min_samples_leaf': 6}\n",
      "Best Score: 0.7083333333333333\n",
      "\n",
      "Accuracy: 0.9681818181818181\n",
      "\n",
      "Confusion Matrix:\n",
      " [[409   9]\n",
      " [  5  17]]\n",
      "\n",
      "Classification Report:\n",
      "               precision    recall  f1-score   support\n",
      "\n",
      "           0       0.99      0.98      0.98       418\n",
      "           1       0.65      0.77      0.71        22\n",
      "\n",
      "    accuracy                           0.97       440\n",
      "   macro avg       0.82      0.88      0.85       440\n",
      "weighted avg       0.97      0.97      0.97       440\n",
      "\n"
     ]
    }
   ],
   "source": [
    "import numpy as np\n",
    "import pandas as pd\n",
    "from sklearn.model_selection import train_test_split\n",
    "from sklearn.preprocessing import StandardScaler\n",
    "from sklearn.ensemble import GradientBoostingClassifier\n",
    "from sklearn.metrics import f1_score, confusion_matrix, classification_report, accuracy_score\n",
    "import optuna\n",
    "\n",
    "\n",
    "def objective(trial):\n",
    "    # Définir les hyperparamètres à optimiser\n",
    "    learning_rate = trial.suggest_float('learning_rate', 0.001, 1, log=True)\n",
    "    n_estimators = trial.suggest_int('n_estimators', 30, 200)\n",
    "    max_depth = trial.suggest_int('max_depth', 3, 12)\n",
    "    min_samples_split = trial.suggest_int('min_samples_split', 2, 20)\n",
    "    min_samples_leaf = trial.suggest_int('min_samples_leaf', 1, 10)\n",
    "    \n",
    "    # Créer un modèle Gradient Boosting avec les hyperparamètres suggérés\n",
    "    gb_model = GradientBoostingClassifier(learning_rate=learning_rate,\n",
    "                                           n_estimators=n_estimators,\n",
    "                                           max_depth=max_depth,\n",
    "                                           min_samples_split=min_samples_split,\n",
    "                                           min_samples_leaf=min_samples_leaf,\n",
    "                                           random_state=42)\n",
    "\n",
    "    # Entraîner le modèle\n",
    "    gb_model.fit(X_train_scaled, y_train_resampled)\n",
    "\n",
    "    # Faire des prédictions sur l'ensemble de test\n",
    "    y_pred_gb = gb_model.predict(X_test_scaled)\n",
    "\n",
    "    # Calculer le score F1 avec l'average 'weighted' pour un problème multiclasse\n",
    "    score = f1_score(y_test, y_pred_gb)\n",
    "\n",
    "    return score\n",
    "\n",
    "# Créer l'étude Optuna\n",
    "study = optuna.create_study(direction='maximize')\n",
    "study.optimize(objective, n_trials=30)\n",
    "\n",
    "# Afficher les meilleurs paramètres et le meilleur score\n",
    "best_params = study.best_params\n",
    "best_score = study.best_value\n",
    "print(\"Best Parameters:\", best_params)\n",
    "print(\"Best Score:\", best_score)\n",
    "\n",
    "# Utiliser les meilleurs paramètres pour créer le modèle Gradient Boosting final\n",
    "best_gb_model = GradientBoostingClassifier(**best_params, random_state=42)\n",
    "best_gb_model.fit(X_train_scaled, y_train_resampled)\n",
    "\n",
    "# Faire des prédictions sur l'ensemble de test\n",
    "y_pred_gb = best_gb_model.predict(X_test_scaled)\n",
    "\n",
    "# Évaluer les performances du meilleur modèle\n",
    "accuracy_gb = accuracy_score(y_test, y_pred_gb)\n",
    "conf_matrix_gb = confusion_matrix(y_test, y_pred_gb)\n",
    "class_report_gb = classification_report(y_test, y_pred_gb)\n",
    "\n",
    "# Afficher les performances\n",
    "print(\"\\nAccuracy:\", accuracy_gb)\n",
    "print(\"\\nConfusion Matrix:\\n\", conf_matrix_gb)\n",
    "print(\"\\nClassification Report:\\n\", class_report_gb)\n"
   ]
  },
  {
   "cell_type": "code",
   "execution_count": null,
   "id": "0614eb2c",
   "metadata": {
    "scrolled": true
   },
   "outputs": [],
   "source": [
    "import numpy as np\n",
    "import pandas as pd\n",
    "from sklearn.model_selection import train_test_split\n",
    "from sklearn.preprocessing import StandardScaler\n",
    "from sklearn.ensemble import GradientBoostingClassifier\n",
    "from sklearn.metrics import f1_score, confusion_matrix, classification_report, accuracy_score\n",
    "import optuna\n",
    "\n",
    "\n",
    "def objective(trial):\n",
    "    # Définir les hyperparamètres à optimiser\n",
    "    learning_rate = trial.suggest_float('learning_rate', 0.001, 1, log=True)\n",
    "    n_estimators = trial.suggest_int('n_estimators', 30, 200)\n",
    "    max_depth = trial.suggest_int('max_depth', 3, 12)\n",
    "    min_samples_split = trial.suggest_int('min_samples_split', 2, 20)\n",
    "    min_samples_leaf = trial.suggest_int('min_samples_leaf', 1, 10)\n",
    "    \n",
    "    # Créer un modèle Gradient Boosting avec les hyperparamètres suggérés\n",
    "    gb_model = GradientBoostingClassifier(learning_rate=learning_rate,\n",
    "                                           n_estimators=n_estimators,\n",
    "                                           max_depth=max_depth,\n",
    "                                           min_samples_split=min_samples_split,\n",
    "                                           min_samples_leaf=min_samples_leaf,\n",
    "                                           random_state=42)\n",
    "\n",
    "    # Entraîner le modèle\n",
    "    gb_model.fit(X_train_resampled, y_train_resampled)\n",
    "\n",
    "    # Faire des prédictions sur l'ensemble de test\n",
    "    y_pred_gb = gb_model.predict(X_test_scaled)\n",
    "\n",
    "    # Calculer le score F1 avec l'average 'weighted' pour un problème multiclasse\n",
    "    score = f1_score(y_test, y_pred_gb)\n",
    "\n",
    "    return score\n",
    "\n",
    "# Créer l'étude Optuna\n",
    "study = optuna.create_study(direction='maximize')\n",
    "study.optimize(objective, n_trials=50)\n",
    "\n",
    "# Afficher les meilleurs paramètres et le meilleur score\n",
    "best_params = study.best_params\n",
    "best_score = study.best_value\n",
    "print(\"Best Parameters:\", best_params)\n",
    "print(\"Best Score:\", best_score)\n",
    "\n",
    "# Utiliser les meilleurs paramètres pour créer le modèle Gradient Boosting final\n",
    "best_gb_model = GradientBoostingClassifier(**best_params, random_state=42)\n",
    "best_gb_model.fit(X_train_resampled, y_train_resampled)\n",
    "\n",
    "# Faire des prédictions sur l'ensemble de test\n",
    "y_pred_gb = best_gb_model.predict(X_test_scaled)\n",
    "\n",
    "# Évaluer les performances du meilleur modèle\n",
    "accuracy_gb = accuracy_score(y_test, y_pred_gb)\n",
    "conf_matrix_gb = confusion_matrix(y_test, y_pred_gb)\n",
    "class_report_gb = classification_report(y_test, y_pred_gb)\n",
    "\n",
    "# Afficher les performances\n",
    "print(\"\\nAccuracy:\", accuracy_gb)\n",
    "print(\"\\nConfusion Matrix:\\n\", conf_matrix_gb)\n",
    "print(\"\\nClassification Report:\\n\", class_report_gb)\n"
   ]
  },
  {
   "cell_type": "code",
   "execution_count": 32,
   "id": "49065d14",
   "metadata": {},
   "outputs": [
    {
     "data": {
      "text/plain": [
       "<matplotlib.legend.Legend at 0x2058f357610>"
      ]
     },
     "execution_count": 32,
     "metadata": {},
     "output_type": "execute_result"
    },
    {
     "data": {
      "image/png": "[encoded data removed]",
      "text/plain": [
       "<Figure size 640x480 with 1 Axes>"
      ]
     },
     "metadata": {},
     "output_type": "display_data"
    }
   ],
   "source": [
    "from sklearn.metrics import precision_recall_curve\n",
    "\n",
    "y_scores = GB.decision_function(X_test_scaled)  # Scores de décision\n",
    "\n",
    "# Calculer la courbe de précision-rappel\n",
    "precision, recall, thresholds = precision_recall_curve(y_test, y_scores)\n",
    "\n",
    "# Tracer la courbe de précision-rappel\n",
    "plt.figure()\n",
    "plt.plot(thresholds, precision[:-1], marker='.', label='precision')\n",
    "plt.plot(thresholds, recall[:-1], marker='.', label='recall')\n",
    "plt.legend()"
   ]
  },
  {
   "cell_type": "code",
   "execution_count": 37,
   "id": "e7057ec2",
   "metadata": {},
   "outputs": [
    {
     "name": "stdout",
     "output_type": "stream",
     "text": [
      "[[411   7]\n",
      " [  7  15]]\n",
      "              precision    recall  f1-score   support\n",
      "\n",
      "           0       0.98      0.98      0.98       418\n",
      "           1       0.68      0.68      0.68        22\n",
      "\n",
      "    accuracy                           0.97       440\n",
      "   macro avg       0.83      0.83      0.83       440\n",
      "weighted avg       0.97      0.97      0.97       440\n",
      "\n"
     ]
    }
   ],
   "source": [
    "def model_final(model,X, threshold=0):\n",
    "    return model.decision_function(X) > threshold\n",
    "\n",
    "y_pred = model_final(GB, X_test_scaled, threshold = 0.5)\n",
    "\n",
    "print(confusion_matrix(y_test,y_pred))\n",
    "print(classification_report(y_test,y_pred))"
   ]
  },
  {
   "cell_type": "code",
   "execution_count": 25,
   "id": "075ee55e",
   "metadata": {
    "scrolled": false
   },
   "outputs": [
    {
     "data": {
      "image/png": "[encoded data removed]",
      "text/plain": [
       "<Figure size 800x400 with 1 Axes>"
      ]
     },
     "metadata": {},
     "output_type": "display_data"
    }
   ],
   "source": [
    "learningcurve(GB)"
   ]
  },
  {
   "cell_type": "markdown",
   "id": "0d7e0c17",
   "metadata": {},
   "source": [
    "# SVM"
   ]
  },
  {
   "cell_type": "code",
   "execution_count": 38,
   "id": "6f3d8aa6",
   "metadata": {
    "scrolled": true
   },
   "outputs": [
    {
     "name": "stderr",
     "output_type": "stream",
     "text": [
      "[I 2024-05-23 22:14:46,525] A new study created in memory with name: no-name-cb0e9a10-6347-4525-a110-9642f2a28f08\n",
      "[I 2024-05-23 22:14:50,689] Trial 0 finished with value: 0.5 and parameters: {'C': 4.466390559881077, 'kernel': 'linear', 'gamma': 'auto'}. Best is trial 0 with value: 0.5.\n",
      "[I 2024-05-23 22:14:52,028] Trial 1 finished with value: 0.4631578947368421 and parameters: {'C': 0.016000734449103042, 'kernel': 'linear', 'gamma': 'auto'}. Best is trial 0 with value: 0.5.\n",
      "[I 2024-05-23 22:14:53,595] Trial 2 finished with value: 0.46808510638297873 and parameters: {'C': 0.0011064385462945235, 'kernel': 'linear', 'gamma': 'scale'}. Best is trial 0 with value: 0.5.\n",
      "[I 2024-05-23 22:14:55,827] Trial 3 finished with value: 0.39999999999999997 and parameters: {'C': 0.00012137741676969777, 'kernel': 'linear', 'gamma': 'scale'}. Best is trial 0 with value: 0.5.\n",
      "[I 2024-05-23 22:15:06,729] Trial 4 finished with value: 0.48888888888888893 and parameters: {'C': 15.830560037938852, 'kernel': 'linear', 'gamma': 'auto'}. Best is trial 0 with value: 0.5.\n",
      "[I 2024-05-23 22:15:08,367] Trial 5 finished with value: 0.48888888888888893 and parameters: {'C': 0.1721798293425782, 'kernel': 'linear', 'gamma': 'auto'}. Best is trial 0 with value: 0.5.\n",
      "[I 2024-05-23 22:15:09,843] Trial 6 finished with value: 0.48351648351648346 and parameters: {'C': 0.04366168638304133, 'kernel': 'linear', 'gamma': 'scale'}. Best is trial 0 with value: 0.5.\n",
      "[I 2024-05-23 22:15:10,907] Trial 7 finished with value: 0.7659574468085107 and parameters: {'C': 4.8820843751879375, 'kernel': 'rbf', 'gamma': 'scale'}. Best is trial 7 with value: 0.7659574468085107.\n",
      "[I 2024-05-23 22:15:12,965] Trial 8 finished with value: 0.4943820224719101 and parameters: {'C': 0.4376214730526736, 'kernel': 'linear', 'gamma': 'scale'}. Best is trial 7 with value: 0.7659574468085107.\n",
      "[I 2024-05-23 22:15:15,524] Trial 9 finished with value: 0.5205479452054794 and parameters: {'C': 0.04711366951451422, 'kernel': 'rbf', 'gamma': 'scale'}. Best is trial 7 with value: 0.7659574468085107.\n",
      "[I 2024-05-23 22:15:16,899] Trial 10 finished with value: 0.8444444444444444 and parameters: {'C': 1.3532544820162016, 'kernel': 'rbf', 'gamma': 'scale'}. Best is trial 10 with value: 0.8444444444444444.\n",
      "[I 2024-05-23 22:15:18,225] Trial 11 finished with value: 0.8444444444444444 and parameters: {'C': 1.8739689506474764, 'kernel': 'rbf', 'gamma': 'scale'}. Best is trial 10 with value: 0.8444444444444444.\n",
      "[I 2024-05-23 22:15:19,690] Trial 12 finished with value: 0.8636363636363636 and parameters: {'C': 0.8703725998175211, 'kernel': 'rbf', 'gamma': 'scale'}. Best is trial 12 with value: 0.8636363636363636.\n",
      "[I 2024-05-23 22:15:21,262] Trial 13 finished with value: 0.8444444444444444 and parameters: {'C': 0.6088633662493002, 'kernel': 'rbf', 'gamma': 'scale'}. Best is trial 12 with value: 0.8636363636363636.\n",
      "[I 2024-05-23 22:15:22,401] Trial 14 finished with value: 0.8085106382978724 and parameters: {'C': 16.960519088396964, 'kernel': 'rbf', 'gamma': 'scale'}. Best is trial 12 with value: 0.8636363636363636.\n",
      "[I 2024-05-23 22:15:23,820] Trial 15 finished with value: 0.8636363636363636 and parameters: {'C': 1.0382733351184388, 'kernel': 'rbf', 'gamma': 'scale'}. Best is trial 12 with value: 0.8636363636363636.\n",
      "[I 2024-05-23 22:15:27,996] Trial 16 finished with value: 0.4935064935064935 and parameters: {'C': 0.006040935620640356, 'kernel': 'rbf', 'gamma': 'scale'}. Best is trial 12 with value: 0.8636363636363636.\n",
      "[I 2024-05-23 22:15:30,031] Trial 17 finished with value: 0.6129032258064516 and parameters: {'C': 0.17426949511152237, 'kernel': 'rbf', 'gamma': 'scale'}. Best is trial 12 with value: 0.8636363636363636.\n",
      "[I 2024-05-23 22:15:31,974] Trial 18 finished with value: 0.6333333333333333 and parameters: {'C': 0.31326753946065944, 'kernel': 'rbf', 'gamma': 'auto'}. Best is trial 12 with value: 0.8636363636363636.\n",
      "[I 2024-05-23 22:15:34,215] Trial 19 finished with value: 0.5352112676056339 and parameters: {'C': 0.07719696486770063, 'kernel': 'rbf', 'gamma': 'scale'}. Best is trial 12 with value: 0.8636363636363636.\n",
      "[I 2024-05-23 22:15:35,459] Trial 20 finished with value: 0.8444444444444444 and parameters: {'C': 2.9303405288411546, 'kernel': 'rbf', 'gamma': 'scale'}. Best is trial 12 with value: 0.8636363636363636.\n",
      "[I 2024-05-23 22:15:37,326] Trial 21 finished with value: 0.8636363636363636 and parameters: {'C': 1.1392565906481584, 'kernel': 'rbf', 'gamma': 'scale'}. Best is trial 12 with value: 0.8636363636363636.\n",
      "[I 2024-05-23 22:15:39,166] Trial 22 finished with value: 0.8636363636363636 and parameters: {'C': 0.9209802936602466, 'kernel': 'rbf', 'gamma': 'scale'}. Best is trial 12 with value: 0.8636363636363636.\n",
      "[I 2024-05-23 22:15:40,246] Trial 23 finished with value: 0.8 and parameters: {'C': 9.035320466733932, 'kernel': 'rbf', 'gamma': 'scale'}. Best is trial 12 with value: 0.8636363636363636.\n",
      "[I 2024-05-23 22:15:41,564] Trial 24 finished with value: 0.8444444444444444 and parameters: {'C': 1.4193292578866619, 'kernel': 'rbf', 'gamma': 'scale'}. Best is trial 12 with value: 0.8636363636363636.\n",
      "[I 2024-05-23 22:15:43,568] Trial 25 finished with value: 0.6129032258064516 and parameters: {'C': 0.15409681595385685, 'kernel': 'rbf', 'gamma': 'scale'}. Best is trial 12 with value: 0.8636363636363636.\n",
      "[I 2024-05-23 22:15:46,688] Trial 26 finished with value: 0.5128205128205129 and parameters: {'C': 0.01733879245260686, 'kernel': 'rbf', 'gamma': 'auto'}. Best is trial 12 with value: 0.8636363636363636.\n",
      "[I 2024-05-23 22:15:48,376] Trial 27 finished with value: 0.8085106382978724 and parameters: {'C': 0.5075470090486246, 'kernel': 'rbf', 'gamma': 'scale'}. Best is trial 12 with value: 0.8636363636363636.\n",
      "[I 2024-05-23 22:15:49,483] Trial 28 finished with value: 0.7826086956521738 and parameters: {'C': 5.509365031954779, 'kernel': 'rbf', 'gamma': 'scale'}. Best is trial 12 with value: 0.8636363636363636.\n",
      "[I 2024-05-23 22:15:50,811] Trial 29 finished with value: 0.8444444444444444 and parameters: {'C': 2.6046881211230666, 'kernel': 'rbf', 'gamma': 'auto'}. Best is trial 12 with value: 0.8636363636363636.\n",
      "[I 2024-05-23 22:15:51,926] Trial 30 finished with value: 0.8 and parameters: {'C': 5.974793616911146, 'kernel': 'rbf', 'gamma': 'scale'}. Best is trial 12 with value: 0.8636363636363636.\n",
      "[I 2024-05-23 22:15:53,545] Trial 31 finished with value: 0.8636363636363636 and parameters: {'C': 0.9257904042250558, 'kernel': 'rbf', 'gamma': 'scale'}. Best is trial 12 with value: 0.8636363636363636.\n",
      "[I 2024-05-23 22:15:54,977] Trial 32 finished with value: 0.8636363636363636 and parameters: {'C': 0.8684147125259751, 'kernel': 'rbf', 'gamma': 'scale'}. Best is trial 12 with value: 0.8636363636363636.\n",
      "[I 2024-05-23 22:15:56,869] Trial 33 finished with value: 0.6551724137931034 and parameters: {'C': 0.25933107699847846, 'kernel': 'rbf', 'gamma': 'scale'}. Best is trial 12 with value: 0.8636363636363636.\n",
      "[I 2024-05-23 22:15:59,118] Trial 34 finished with value: 0.5428571428571428 and parameters: {'C': 0.08378392477404104, 'kernel': 'rbf', 'gamma': 'scale'}. Best is trial 12 with value: 0.8636363636363636.\n",
      "[I 2024-05-23 22:16:00,900] Trial 35 finished with value: 0.46808510638297873 and parameters: {'C': 0.0009118613655322412, 'kernel': 'linear', 'gamma': 'auto'}. Best is trial 12 with value: 0.8636363636363636.\n",
      "[I 2024-05-23 22:16:02,129] Trial 36 finished with value: 0.8444444444444444 and parameters: {'C': 2.527322885624708, 'kernel': 'rbf', 'gamma': 'scale'}. Best is trial 12 with value: 0.8636363636363636.\n",
      "[I 2024-05-23 22:16:04,373] Trial 37 finished with value: 0.4943820224719101 and parameters: {'C': 0.86376980571592, 'kernel': 'linear', 'gamma': 'scale'}. Best is trial 12 with value: 0.8636363636363636.\n",
      "[I 2024-05-23 22:16:10,097] Trial 38 finished with value: 0.4938271604938271 and parameters: {'C': 0.0033014391132808905, 'kernel': 'rbf', 'gamma': 'auto'}. Best is trial 12 with value: 0.8636363636363636.\n",
      "[I 2024-05-23 22:16:18,422] Trial 39 finished with value: 0.4943820224719101 and parameters: {'C': 9.779424037341181, 'kernel': 'linear', 'gamma': 'scale'}. Best is trial 12 with value: 0.8636363636363636.\n"
     ]
    },
    {
     "name": "stdout",
     "output_type": "stream",
     "text": [
      "Best Parameters: {'C': 0.8703725998175211, 'kernel': 'rbf', 'gamma': 'scale'}\n",
      "Best Score: 0.8636363636363636\n",
      "\n",
      "Accuracy: 0.9863636363636363\n",
      "\n",
      "Confusion Matrix:\n",
      " [[415   3]\n",
      " [  3  19]]\n",
      "\n",
      "Classification Report:\n",
      "               precision    recall  f1-score   support\n",
      "\n",
      "           0       0.99      0.99      0.99       418\n",
      "           1       0.86      0.86      0.86        22\n",
      "\n",
      "    accuracy                           0.99       440\n",
      "   macro avg       0.93      0.93      0.93       440\n",
      "weighted avg       0.99      0.99      0.99       440\n",
      "\n"
     ]
    }
   ],
   "source": [
    "import numpy as np\n",
    "import pandas as pd\n",
    "from sklearn.model_selection import train_test_split\n",
    "from sklearn.preprocessing import StandardScaler\n",
    "from sklearn.svm import SVC\n",
    "from sklearn.metrics import accuracy_score, confusion_matrix, classification_report\n",
    "from sklearn.model_selection import GridSearchCV\n",
    "from sklearn.metrics import make_scorer, f1_score, accuracy_score, recall_score\n",
    "from imblearn.over_sampling import SMOTE\n",
    "import optuna\n",
    "\n",
    "\n",
    "\n",
    "def objective(trial):\n",
    "    # Définir les hyperparamètres à optimiser\n",
    "    C = trial.suggest_float('C', 1e-4, 20, log=True)\n",
    "    kernel = trial.suggest_categorical('kernel', ['linear', 'rbf'])\n",
    "    gamma = trial.suggest_categorical('gamma', ['scale','auto'])\n",
    "    # Créer un modèle SVM avec les hyperparamètres suggérés\n",
    "    svm_model = SVC(C=C, kernel=kernel, gamma=gamma, random_state=42)\n",
    "\n",
    "    # Entraîner le modèle\n",
    "    svm_model.fit(X_train_scaled, y_train_resampled)\n",
    "\n",
    "    # Faire des prédictions sur l'ensemble de test\n",
    "    y_pred_svm = svm_model.predict(X_test_scaled)\n",
    "\n",
    "    # Calculer le score F1\n",
    "    score = f1_score(y_test, y_pred_svm)\n",
    "\n",
    "    return score\n",
    "\n",
    "# Créer l'étude Optuna\n",
    "study = optuna.create_study(direction='maximize')\n",
    "study.optimize(objective, n_trials=40)\n",
    "\n",
    "# Afficher les meilleurs paramètres et le meilleur score\n",
    "best_params = study.best_params\n",
    "best_score = study.best_value\n",
    "print(\"Best Parameters:\", best_params)\n",
    "print(\"Best Score:\", best_score)\n",
    "\n",
    "# Utiliser les meilleurs paramètres pour créer le modèle SVM final\n",
    "best_svm_model = SVC(**best_params, random_state=42)\n",
    "best_svm_model.fit(X_train_scaled, y_train_resampled)\n",
    "\n",
    "# Faire des prédictions sur l'ensemble de test\n",
    "y_pred_svm = best_svm_model.predict(X_test_scaled)\n",
    "\n",
    "# Évaluer les performances du meilleur modèle\n",
    "accuracy_svm = accuracy_score(y_test, y_pred_svm)\n",
    "conf_matrix_svm = confusion_matrix(y_test, y_pred_svm)\n",
    "class_report_svm = classification_report(y_test, y_pred_svm)\n",
    "\n",
    "# Afficher les performances\n",
    "print(\"\\nAccuracy:\", accuracy_svm)\n",
    "print(\"\\nConfusion Matrix:\\n\", conf_matrix_svm)\n",
    "print(\"\\nClassification Report:\\n\", class_report_svm)\n"
   ]
  },
  {
   "cell_type": "code",
   "execution_count": 42,
   "id": "7d0f653b",
   "metadata": {},
   "outputs": [
    {
     "name": "stdout",
     "output_type": "stream",
     "text": [
      "\n",
      "Accuracy: 0.9659090909090909\n",
      "\n",
      "Confusion Matrix:\n",
      " [[406  12]\n",
      " [  3  19]]\n",
      "\n",
      "Classification Report:\n",
      "               precision    recall  f1-score   support\n",
      "\n",
      "           0       0.99      0.97      0.98       418\n",
      "           1       0.61      0.86      0.72        22\n",
      "\n",
      "    accuracy                           0.97       440\n",
      "   macro avg       0.80      0.92      0.85       440\n",
      "weighted avg       0.97      0.97      0.97       440\n",
      "\n"
     ]
    }
   ],
   "source": [
    "SupportVectorMachine = SVC(C=0.31326753946065944,\n",
    "                           kernel='rbf',\n",
    "                           gamma='scale',\n",
    "                           random_state=42)\n",
    "\n",
    "SupportVectorMachine.fit(X_train_scaled, y_train_resampled)\n",
    "\n",
    "# Faire des prédictions sur l'ensemble de test\n",
    "y_pred_svm = SupportVectorMachine.predict(X_test_scaled)\n",
    "\n",
    "# Évaluer les performances du meilleur modèle\n",
    "accuracy_svm = accuracy_score(y_test, y_pred_svm)\n",
    "conf_matrix_svm = confusion_matrix(y_test, y_pred_svm)\n",
    "class_report_svm = classification_report(y_test, y_pred_svm)\n",
    "\n",
    "# Afficher les performances\n",
    "print(\"\\nAccuracy:\", accuracy_svm)\n",
    "print(\"\\nConfusion Matrix:\\n\", conf_matrix_svm)\n",
    "print(\"\\nClassification Report:\\n\", class_report_svm)"
   ]
  },
  {
   "cell_type": "code",
   "execution_count": null,
   "id": "4d90a5e5",
   "metadata": {},
   "outputs": [],
   "source": [
    "from sklearn.metrics import precision_recall_curve\n",
    "\n",
    "y_scores = best_svm_model.decision_function(X_test_scaled)  # Scores de décision\n",
    "\n",
    "# Calculer la courbe de précision-rappel\n",
    "precision, recall, thresholds = precision_recall_curve(y_test, y_scores)\n",
    "\n",
    "# Tracer la courbe de précision-rappel\n",
    "plt.figure()\n",
    "plt.plot(thresholds, precision[:-1], marker='.', label='precision')\n",
    "plt.plot(thresholds, recall[:-1], marker='.', label='recall')\n",
    "plt.legend()"
   ]
  },
  {
   "cell_type": "code",
   "execution_count": null,
   "id": "33f121a0",
   "metadata": {},
   "outputs": [],
   "source": [
    "def model_final(model,X, threshold=0):\n",
    "    return model.decision_function(X) > threshold\n",
    "\n",
    "y_pred = model_final(best_svm_model, X_test_scaled, threshold = 0.27)\n",
    "\n",
    "print(confusion_matrix(y_test,y_pred))\n",
    "print(classification_report(y_test,y_pred))"
   ]
  },
  {
   "cell_type": "code",
   "execution_count": 44,
   "id": "275cef2d",
   "metadata": {
    "scrolled": false
   },
   "outputs": [
    {
     "data": {
      "image/png": "[encoded data removed]",
      "text/plain": [
       "<Figure size 800x400 with 1 Axes>"
      ]
     },
     "metadata": {},
     "output_type": "display_data"
    }
   ],
   "source": [
    "learningcurve(SupportVectorMachine)"
   ]
  },
  {
   "cell_type": "markdown",
   "id": "9593d323",
   "metadata": {},
   "source": [
    "# AdaBoost"
   ]
  },
  {
   "cell_type": "code",
   "execution_count": 45,
   "id": "c1bd7311",
   "metadata": {
    "scrolled": true
   },
   "outputs": [
    {
     "name": "stderr",
     "output_type": "stream",
     "text": [
      "[I 2024-05-23 22:25:15,609] A new study created in memory with name: no-name-6f4a971e-db0f-42dd-816a-4a90984e820e\n",
      "[I 2024-05-23 22:25:30,283] Trial 0 finished with value: 0.7307692307692307 and parameters: {'n_estimators': 457, 'learning_rate': 0.1114902054648927}. Best is trial 0 with value: 0.7307692307692307.\n",
      "[I 2024-05-23 22:25:38,093] Trial 1 finished with value: 0.6779661016949153 and parameters: {'n_estimators': 216, 'learning_rate': 0.161435330414037}. Best is trial 0 with value: 0.7307692307692307.\n",
      "[I 2024-05-23 22:25:51,127] Trial 2 finished with value: 0.5866666666666668 and parameters: {'n_estimators': 384, 'learning_rate': 0.021966173568863743}. Best is trial 0 with value: 0.7307692307692307.\n",
      "[I 2024-05-23 22:26:04,218] Trial 3 finished with value: 0.3838383838383838 and parameters: {'n_estimators': 394, 'learning_rate': 0.0010676466809455552}. Best is trial 0 with value: 0.7307692307692307.\n",
      "[I 2024-05-23 22:26:07,523] Trial 4 finished with value: 0.3619047619047619 and parameters: {'n_estimators': 104, 'learning_rate': 0.002198458411691935}. Best is trial 0 with value: 0.7307692307692307.\n",
      "[I 2024-05-23 22:26:11,815] Trial 5 finished with value: 0.3877551020408163 and parameters: {'n_estimators': 110, 'learning_rate': 0.005914746603774515}. Best is trial 0 with value: 0.7307692307692307.\n",
      "[I 2024-05-23 22:26:23,946] Trial 6 finished with value: 0.6666666666666666 and parameters: {'n_estimators': 255, 'learning_rate': 0.1451894699645704}. Best is trial 0 with value: 0.7307692307692307.\n",
      "[I 2024-05-23 22:26:35,518] Trial 7 finished with value: 0.3619047619047619 and parameters: {'n_estimators': 239, 'learning_rate': 0.001246329532990524}. Best is trial 0 with value: 0.7307692307692307.\n",
      "[I 2024-05-23 22:26:49,393] Trial 8 finished with value: 0.5569620253164557 and parameters: {'n_estimators': 340, 'learning_rate': 0.010640437150343582}. Best is trial 0 with value: 0.7307692307692307.\n",
      "[I 2024-05-23 22:26:52,393] Trial 9 finished with value: 0.3619047619047619 and parameters: {'n_estimators': 73, 'learning_rate': 0.0049488511613770365}. Best is trial 0 with value: 0.7307692307692307.\n"
     ]
    },
    {
     "name": "stdout",
     "output_type": "stream",
     "text": [
      "Best Parameters: {'n_estimators': 457, 'learning_rate': 0.1114902054648927}\n",
      "Best Score: 0.7307692307692307\n",
      "\n",
      "Accuracy: 0.9681818181818181\n",
      "\n",
      "Confusion Matrix:\n",
      " [[407  11]\n",
      " [  3  19]]\n",
      "\n",
      "Classification Report:\n",
      "               precision    recall  f1-score   support\n",
      "\n",
      "           0       0.99      0.97      0.98       418\n",
      "           1       0.63      0.86      0.73        22\n",
      "\n",
      "    accuracy                           0.97       440\n",
      "   macro avg       0.81      0.92      0.86       440\n",
      "weighted avg       0.97      0.97      0.97       440\n",
      "\n"
     ]
    }
   ],
   "source": [
    "import numpy as np\n",
    "import pandas as pd\n",
    "from sklearn.model_selection import train_test_split\n",
    "from sklearn.preprocessing import StandardScaler\n",
    "from sklearn.ensemble import AdaBoostClassifier\n",
    "from sklearn.metrics import f1_score, confusion_matrix, classification_report\n",
    "import optuna\n",
    "\n",
    "# Normaliser les caractéristiques\n",
    "scaler = StandardScaler()\n",
    "X_train_scaled = scaler.fit_transform(X_train_resampled)\n",
    "X_test_scaled = scaler.transform(X_test)\n",
    "\n",
    "def objective(trial):\n",
    "    # Définir les hyperparamètres à optimiser\n",
    "    n_estimators = trial.suggest_int('n_estimators', 50, 500)\n",
    "    learning_rate = trial.suggest_float('learning_rate', 0.001, 1,log=True)\n",
    "    \n",
    "    # Créer un modèle AdaBoost avec les hyperparamètres suggérés\n",
    "    ab_model = AdaBoostClassifier(n_estimators=n_estimators,\n",
    "                                  learning_rate=learning_rate,\n",
    "                                  random_state=42)\n",
    "\n",
    "    # Entraîner le modèle\n",
    "    ab_model.fit(X_train_scaled, y_train_resampled)\n",
    "\n",
    "    # Faire des prédictions sur l'ensemble de test\n",
    "    y_pred_ab = ab_model.predict(X_test_scaled)\n",
    "\n",
    "    # Calculer le score F1\n",
    "    score = f1_score(y_test, y_pred_ab)\n",
    "\n",
    "    return score\n",
    "\n",
    "# Créer l'étude Optuna\n",
    "study = optuna.create_study(direction='maximize')\n",
    "study.optimize(objective, n_trials=10)\n",
    "\n",
    "# Afficher les meilleurs paramètres et le meilleur score\n",
    "best_params = study.best_params\n",
    "best_score = study.best_value\n",
    "print(\"Best Parameters:\", best_params)\n",
    "print(\"Best Score:\", best_score)\n",
    "\n",
    "# Utiliser les meilleurs paramètres pour créer le modèle AdaBoost final\n",
    "best_ab_model = AdaBoostClassifier(**best_params, random_state=42)\n",
    "best_ab_model.fit(X_train_scaled, y_train_resampled)\n",
    "\n",
    "# Faire des prédictions sur l'ensemble de test\n",
    "y_pred_ab = best_ab_model.predict(X_test_scaled)\n",
    "\n",
    "# Évaluer les performances du meilleur modèle\n",
    "accuracy_ab = accuracy_score(y_test, y_pred_ab)\n",
    "conf_matrix_ab = confusion_matrix(y_test, y_pred_ab)\n",
    "class_report_ab = classification_report(y_test, y_pred_ab)\n",
    "\n",
    "# Afficher les performances\n",
    "print(\"\\nAccuracy:\", accuracy_ab)\n",
    "print(\"\\nConfusion Matrix:\\n\", conf_matrix_ab)\n",
    "print(\"\\nClassification Report:\\n\", class_report_ab)\n"
   ]
  },
  {
   "cell_type": "code",
   "execution_count": 48,
   "id": "f01f3378",
   "metadata": {},
   "outputs": [
    {
     "name": "stdout",
     "output_type": "stream",
     "text": [
      "\n",
      "Accuracy: 0.9568181818181818\n",
      "\n",
      "Confusion Matrix:\n",
      " [[402  16]\n",
      " [  3  19]]\n",
      "\n",
      "Classification Report:\n",
      "               precision    recall  f1-score   support\n",
      "\n",
      "           0       0.99      0.96      0.98       418\n",
      "           1       0.54      0.86      0.67        22\n",
      "\n",
      "    accuracy                           0.96       440\n",
      "   macro avg       0.77      0.91      0.82       440\n",
      "weighted avg       0.97      0.96      0.96       440\n",
      "\n"
     ]
    }
   ],
   "source": [
    "AdaBoost = AdaBoostClassifier(n_estimators=255,\n",
    "                              learning_rate=0.1451894699645704,\n",
    "                              algorithm='SAMME.R',\n",
    "                              random_state=42)\n",
    "\n",
    "AdaBoost.fit(X_train_scaled, y_train_resampled)\n",
    "\n",
    "# Faire des prédictions sur l'ensemble de test\n",
    "y_pred_ab = AdaBoost.predict(X_test_scaled)\n",
    "\n",
    "# Évaluer les performances du meilleur modèle\n",
    "accuracy_ab = accuracy_score(y_test, y_pred_ab)\n",
    "conf_matrix_ab = confusion_matrix(y_test, y_pred_ab)\n",
    "class_report_ab = classification_report(y_test, y_pred_ab)\n",
    "\n",
    "# Afficher les performances\n",
    "print(\"\\nAccuracy:\", accuracy_ab)\n",
    "print(\"\\nConfusion Matrix:\\n\", conf_matrix_ab)\n",
    "print(\"\\nClassification Report:\\n\", class_report_ab)"
   ]
  },
  {
   "cell_type": "code",
   "execution_count": null,
   "id": "9f3402be",
   "metadata": {},
   "outputs": [],
   "source": [
    "from sklearn.metrics import precision_recall_curve\n",
    "\n",
    "y_scores = best_ab_model.decision_function(X_test_scaled)  # Scores de décision\n",
    "\n",
    "# Calculer la courbe de précision-rappel\n",
    "precision, recall, thresholds = precision_recall_curve(y_test, y_scores)\n",
    "\n",
    "# Tracer la courbe de précision-rappel\n",
    "plt.figure()\n",
    "plt.plot(thresholds, precision[:-1], marker='.', label='precision')\n",
    "plt.plot(thresholds, recall[:-1], marker='.', label='recall')\n",
    "plt.legend()"
   ]
  },
  {
   "cell_type": "code",
   "execution_count": null,
   "id": "af979656",
   "metadata": {},
   "outputs": [],
   "source": [
    "def model_final(model,X, threshold=0):\n",
    "    return model.decision_function(X) > threshold\n",
    "\n",
    "y_pred = model_final(best_ab_model, X_test_scaled, threshold = -0.0002)\n",
    "\n",
    "print(confusion_matrix(y_test,y_pred))\n",
    "print(classification_report(y_test,y_pred))"
   ]
  },
  {
   "cell_type": "code",
   "execution_count": 49,
   "id": "6c03e94d",
   "metadata": {},
   "outputs": [
    {
     "data": {
      "image/png": "[encoded data removed]",
      "text/plain": [
       "<Figure size 800x400 with 1 Axes>"
      ]
     },
     "metadata": {},
     "output_type": "display_data"
    }
   ],
   "source": [
    "learningcurve(AdaBoost)"
   ]
  },
  {
   "cell_type": "markdown",
   "id": "54a188b8",
   "metadata": {},
   "source": [
    "# Catboost"
   ]
  },
  {
   "cell_type": "code",
   "execution_count": 52,
   "id": "076c033c",
   "metadata": {
    "scrolled": true
   },
   "outputs": [
    {
     "name": "stderr",
     "output_type": "stream",
     "text": [
      "[I 2024-05-23 22:46:02,002] A new study created in memory with name: no-name-5a348601-2851-4d4b-b2a1-86e565729388\n",
      "[I 2024-05-23 22:46:04,528] Trial 0 finished with value: 0.6451612903225806 and parameters: {'iterations': 294, 'learning_rate': 0.0101370551725073, 'depth': 4, 'l2_leaf_reg': 1.329169212082312}. Best is trial 0 with value: 0.6451612903225806.\n",
      "[I 2024-05-23 22:46:10,777] Trial 1 finished with value: 0.76 and parameters: {'iterations': 433, 'learning_rate': 0.021673875877157283, 'depth': 6, 'l2_leaf_reg': 5.333480374009157}. Best is trial 1 with value: 0.76.\n",
      "[I 2024-05-23 22:46:36,924] Trial 2 finished with value: 0.8 and parameters: {'iterations': 106, 'learning_rate': 0.07070285323278983, 'depth': 11, 'l2_leaf_reg': 0.7889667488936559}. Best is trial 2 with value: 0.8.\n",
      "[I 2024-05-23 22:47:08,127] Trial 3 finished with value: 0.711864406779661 and parameters: {'iterations': 58, 'learning_rate': 0.015289374707187012, 'depth': 12, 'l2_leaf_reg': 0.0636004199283093}. Best is trial 2 with value: 0.8.\n",
      "[I 2024-05-23 22:47:49,123] Trial 4 finished with value: 0.65625 and parameters: {'iterations': 161, 'learning_rate': 0.008917718136396748, 'depth': 11, 'l2_leaf_reg': 9.599540241583783}. Best is trial 2 with value: 0.8.\n"
     ]
    },
    {
     "name": "stdout",
     "output_type": "stream",
     "text": [
      "Best Parameters: {'iterations': 106, 'learning_rate': 0.07070285323278983, 'depth': 11, 'l2_leaf_reg': 0.7889667488936559}\n",
      "Best Score: 0.8\n",
      "\n",
      "Accuracy: 0.9772727272727273\n",
      "\n",
      "Confusion Matrix:\n",
      " [[410   8]\n",
      " [  2  20]]\n",
      "\n",
      "Classification Report:\n",
      "               precision    recall  f1-score   support\n",
      "\n",
      "           0       1.00      0.98      0.99       418\n",
      "           1       0.71      0.91      0.80        22\n",
      "\n",
      "    accuracy                           0.98       440\n",
      "   macro avg       0.85      0.94      0.89       440\n",
      "weighted avg       0.98      0.98      0.98       440\n",
      "\n"
     ]
    }
   ],
   "source": [
    "import numpy as np\n",
    "import pandas as pd\n",
    "from sklearn.model_selection import train_test_split\n",
    "from sklearn.preprocessing import StandardScaler\n",
    "from sklearn.metrics import f1_score, confusion_matrix, classification_report\n",
    "import optuna\n",
    "from catboost import CatBoostClassifier\n",
    "\n",
    "\n",
    "def objective(trial):\n",
    "    # Définir les hyperparamètres à optimiser\n",
    "    iterations = trial.suggest_int('iterations', 50, 500)\n",
    "    learning_rate = trial.suggest_float('learning_rate', 0.001, 1,log=True)\n",
    "    depth = trial.suggest_int('depth', 3, 12)\n",
    "    l2_leaf_reg = trial.suggest_float('l2_leaf_reg', 1e-3, 10,log=True)\n",
    "    \n",
    "    # Créer un modèle CatBoost avec les hyperparamètres suggérés\n",
    "    cb_model = CatBoostClassifier(iterations=iterations,\n",
    "                                  learning_rate=learning_rate,\n",
    "                                  depth=depth,\n",
    "                                  l2_leaf_reg=l2_leaf_reg,\n",
    "                                  verbose=0,\n",
    "                                  random_state=42)\n",
    "\n",
    "    # Entraîner le modèle\n",
    "    cb_model.fit(X_train_scaled, y_train_resampled)\n",
    "\n",
    "    # Faire des prédictions sur l'ensemble de test\n",
    "    y_pred_cb = cb_model.predict(X_test_scaled)\n",
    "\n",
    "    # Calculer le score F1\n",
    "    score = f1_score(y_test, y_pred_cb)\n",
    "\n",
    "    return score\n",
    "\n",
    "# Créer l'étude Optuna\n",
    "study = optuna.create_study(direction='maximize')\n",
    "study.optimize(objective, n_trials=5)\n",
    "\n",
    "# Afficher les meilleurs paramètres et le meilleur score\n",
    "best_params = study.best_params\n",
    "best_score = study.best_value\n",
    "print(\"Best Parameters:\", best_params)\n",
    "print(\"Best Score:\", best_score)\n",
    "\n",
    "# Utiliser les meilleurs paramètres pour créer le modèle CatBoost final\n",
    "best_cb_model = CatBoostClassifier(**best_params, verbose=0, random_state=42)\n",
    "best_cb_model.fit(X_train_scaled, y_train_resampled)\n",
    "\n",
    "# Faire des prédictions sur l'ensemble de test\n",
    "y_pred_cb = best_cb_model.predict(X_test_scaled)\n",
    "\n",
    "# Évaluer les performances du meilleur modèle\n",
    "accuracy_cb = accuracy_score(y_test, y_pred_cb)\n",
    "conf_matrix_cb = confusion_matrix(y_test, y_pred_cb)\n",
    "class_report_cb = classification_report(y_test, y_pred_cb)\n",
    "\n",
    "# Afficher les performances\n",
    "print(\"\\nAccuracy:\", accuracy_cb)\n",
    "print(\"\\nConfusion Matrix:\\n\", conf_matrix_cb)\n",
    "print(\"\\nClassification Report:\\n\", class_report_cb)\n"
   ]
  },
  {
   "cell_type": "code",
   "execution_count": 54,
   "id": "655b4a08",
   "metadata": {},
   "outputs": [
    {
     "name": "stdout",
     "output_type": "stream",
     "text": [
      "\n",
      "Accuracy: 0.95\n",
      "\n",
      "Confusion Matrix:\n",
      " [[398  20]\n",
      " [  2  20]]\n",
      "\n",
      "Classification Report:\n",
      "               precision    recall  f1-score   support\n",
      "\n",
      "           0       0.99      0.95      0.97       418\n",
      "           1       0.50      0.91      0.65        22\n",
      "\n",
      "    accuracy                           0.95       440\n",
      "   macro avg       0.75      0.93      0.81       440\n",
      "weighted avg       0.97      0.95      0.96       440\n",
      "\n"
     ]
    }
   ],
   "source": [
    "CatBoost = CatBoostClassifier(iterations=294,\n",
    "                              learning_rate=0.0101370551725073,\n",
    "                              depth=4,\n",
    "                              l2_leaf_reg=1.329169212082312,\n",
    "                              verbose=0,\n",
    "                              random_state=42)\n",
    "\n",
    "CatBoost.fit(X_train_scaled, y_train_resampled)\n",
    "\n",
    "# Faire des prédictions sur l'ensemble de test\n",
    "y_pred_cb = CatBoost.predict(X_test_scaled)\n",
    "\n",
    "# Évaluer les performances du meilleur modèle\n",
    "accuracy_cb = accuracy_score(y_test, y_pred_cb)\n",
    "conf_matrix_cb = confusion_matrix(y_test, y_pred_cb)\n",
    "class_report_cb = classification_report(y_test, y_pred_cb)\n",
    "\n",
    "# Afficher les performances\n",
    "print(\"\\nAccuracy:\", accuracy_cb)\n",
    "print(\"\\nConfusion Matrix:\\n\", conf_matrix_cb)\n",
    "print(\"\\nClassification Report:\\n\", class_report_cb)"
   ]
  },
  {
   "cell_type": "code",
   "execution_count": null,
   "id": "8f406196",
   "metadata": {},
   "outputs": [],
   "source": [
    "from sklearn.metrics import precision_recall_curve\n",
    "\n",
    "y_scores = best_cb_model.predict_proba(X_test_scaled)[:, 1]  # Scores de décision\n",
    "\n",
    "# Calculer la courbe de précision-rappel\n",
    "precision, recall, thresholds = precision_recall_curve(y_test, y_scores)\n",
    "\n",
    "# Tracer la courbe de précision-rappel\n",
    "plt.figure()\n",
    "plt.plot(thresholds, precision[:-1], marker='.', label='precision')\n",
    "plt.plot(thresholds, recall[:-1], marker='.', label='recall')\n",
    "plt.legend()"
   ]
  },
  {
   "cell_type": "code",
   "execution_count": null,
   "id": "e6bf4279",
   "metadata": {},
   "outputs": [],
   "source": [
    "def model_final(model,X, threshold=0):\n",
    "    return model.predict_proba(X)[:, 1] > threshold\n",
    "\n",
    "y_pred = model_final(best_cb_model, X_test_scaled, threshold = 0.53)\n",
    "\n",
    "print(confusion_matrix(y_test,y_pred))\n",
    "print(classification_report(y_test,y_pred))"
   ]
  },
  {
   "cell_type": "code",
   "execution_count": 55,
   "id": "55607591",
   "metadata": {},
   "outputs": [
    {
     "data": {
      "image/png": "[encoded data removed]",
      "text/plain": [
       "<Figure size 800x400 with 1 Axes>"
      ]
     },
     "metadata": {},
     "output_type": "display_data"
    }
   ],
   "source": [
    "learningcurve(CatBoost)"
   ]
  },
  {
   "cell_type": "markdown",
   "id": "aed71fdd",
   "metadata": {},
   "source": [
    "# Decision Tree"
   ]
  },
  {
   "cell_type": "code",
   "execution_count": 57,
   "id": "9c47bbbb",
   "metadata": {
    "scrolled": true
   },
   "outputs": [
    {
     "name": "stderr",
     "output_type": "stream",
     "text": [
      "[I 2024-05-23 22:54:44,552] A new study created in memory with name: no-name-dd0b85ec-d257-48d0-a566-0d671b50ae57\n",
      "[I 2024-05-23 22:54:44,644] Trial 0 finished with value: 0.525 and parameters: {'max_depth': 4, 'min_samples_split': 11, 'min_samples_leaf': 1, 'max_features': None}. Best is trial 0 with value: 0.525.\n",
      "[I 2024-05-23 22:54:44,760] Trial 1 finished with value: 0.4938271604938271 and parameters: {'max_depth': 8, 'min_samples_split': 18, 'min_samples_leaf': 7, 'max_features': None}. Best is trial 0 with value: 0.525.\n",
      "[I 2024-05-23 22:54:44,881] Trial 2 finished with value: 0.5135135135135135 and parameters: {'max_depth': 19, 'min_samples_split': 9, 'min_samples_leaf': 10, 'max_features': None}. Best is trial 0 with value: 0.525.\n",
      "[I 2024-05-23 22:54:44,905] Trial 3 finished with value: 0.5066666666666666 and parameters: {'max_depth': 22, 'min_samples_split': 14, 'min_samples_leaf': 7, 'max_features': 'log2'}. Best is trial 0 with value: 0.525.\n",
      "[I 2024-05-23 22:54:45,091] Trial 4 finished with value: 0.5205479452054794 and parameters: {'max_depth': 27, 'min_samples_split': 2, 'min_samples_leaf': 9, 'max_features': None}. Best is trial 0 with value: 0.525.\n",
      "[I 2024-05-23 22:54:45,111] Trial 5 finished with value: 0.5217391304347826 and parameters: {'max_depth': 6, 'min_samples_split': 17, 'min_samples_leaf': 2, 'max_features': 'sqrt'}. Best is trial 0 with value: 0.525.\n",
      "C:\\Users\\33782\\anaconda3\\Lib\\site-packages\\sklearn\\tree\\_classes.py:269: FutureWarning: `max_features='auto'` has been deprecated in 1.1 and will be removed in 1.3. To keep the past behaviour, explicitly set `max_features='sqrt'`.\n",
      "  warnings.warn(\n",
      "[I 2024-05-23 22:54:45,143] Trial 6 finished with value: 0.5555555555555556 and parameters: {'max_depth': 24, 'min_samples_split': 2, 'min_samples_leaf': 8, 'max_features': 'auto'}. Best is trial 6 with value: 0.5555555555555556.\n",
      "[I 2024-05-23 22:54:45,166] Trial 7 finished with value: 0.33870967741935487 and parameters: {'max_depth': 5, 'min_samples_split': 17, 'min_samples_leaf': 5, 'max_features': 'sqrt'}. Best is trial 6 with value: 0.5555555555555556.\n",
      "[I 2024-05-23 22:54:45,181] Trial 8 finished with value: 0.271604938271605 and parameters: {'max_depth': 3, 'min_samples_split': 19, 'min_samples_leaf': 7, 'max_features': 'log2'}. Best is trial 6 with value: 0.5555555555555556.\n",
      "[I 2024-05-23 22:54:45,308] Trial 9 finished with value: 0.49315068493150693 and parameters: {'max_depth': 10, 'min_samples_split': 16, 'min_samples_leaf': 3, 'max_features': None}. Best is trial 6 with value: 0.5555555555555556.\n",
      "C:\\Users\\33782\\anaconda3\\Lib\\site-packages\\sklearn\\tree\\_classes.py:269: FutureWarning: `max_features='auto'` has been deprecated in 1.1 and will be removed in 1.3. To keep the past behaviour, explicitly set `max_features='sqrt'`.\n",
      "  warnings.warn(\n",
      "[I 2024-05-23 22:54:45,358] Trial 10 finished with value: 0.2285714285714286 and parameters: {'max_depth': 30, 'min_samples_split': 2, 'min_samples_leaf': 5, 'max_features': 'auto'}. Best is trial 6 with value: 0.5555555555555556.\n",
      "C:\\Users\\33782\\anaconda3\\Lib\\site-packages\\sklearn\\tree\\_classes.py:269: FutureWarning: `max_features='auto'` has been deprecated in 1.1 and will be removed in 1.3. To keep the past behaviour, explicitly set `max_features='sqrt'`.\n",
      "  warnings.warn(\n",
      "[I 2024-05-23 22:54:45,394] Trial 11 finished with value: 0.425 and parameters: {'max_depth': 13, 'min_samples_split': 7, 'min_samples_leaf': 3, 'max_features': 'auto'}. Best is trial 6 with value: 0.5555555555555556.\n",
      "C:\\Users\\33782\\anaconda3\\Lib\\site-packages\\sklearn\\tree\\_classes.py:269: FutureWarning: `max_features='auto'` has been deprecated in 1.1 and will be removed in 1.3. To keep the past behaviour, explicitly set `max_features='sqrt'`.\n",
      "  warnings.warn(\n",
      "[I 2024-05-23 22:54:45,447] Trial 12 finished with value: 0.5555555555555556 and parameters: {'max_depth': 23, 'min_samples_split': 6, 'min_samples_leaf': 8, 'max_features': 'auto'}. Best is trial 6 with value: 0.5555555555555556.\n",
      "C:\\Users\\33782\\anaconda3\\Lib\\site-packages\\sklearn\\tree\\_classes.py:269: FutureWarning: `max_features='auto'` has been deprecated in 1.1 and will be removed in 1.3. To keep the past behaviour, explicitly set `max_features='sqrt'`.\n",
      "  warnings.warn(\n",
      "[I 2024-05-23 22:54:45,490] Trial 13 finished with value: 0.3185840707964602 and parameters: {'max_depth': 23, 'min_samples_split': 5, 'min_samples_leaf': 9, 'max_features': 'auto'}. Best is trial 6 with value: 0.5555555555555556.\n",
      "C:\\Users\\33782\\anaconda3\\Lib\\site-packages\\sklearn\\tree\\_classes.py:269: FutureWarning: `max_features='auto'` has been deprecated in 1.1 and will be removed in 1.3. To keep the past behaviour, explicitly set `max_features='sqrt'`.\n",
      "  warnings.warn(\n",
      "[I 2024-05-23 22:54:45,534] Trial 14 finished with value: 0.48 and parameters: {'max_depth': 16, 'min_samples_split': 5, 'min_samples_leaf': 8, 'max_features': 'auto'}. Best is trial 6 with value: 0.5555555555555556.\n",
      "C:\\Users\\33782\\anaconda3\\Lib\\site-packages\\sklearn\\tree\\_classes.py:269: FutureWarning: `max_features='auto'` has been deprecated in 1.1 and will be removed in 1.3. To keep the past behaviour, explicitly set `max_features='sqrt'`.\n",
      "  warnings.warn(\n",
      "[I 2024-05-23 22:54:45,573] Trial 15 finished with value: 0.39436619718309857 and parameters: {'max_depth': 25, 'min_samples_split': 5, 'min_samples_leaf': 10, 'max_features': 'auto'}. Best is trial 6 with value: 0.5555555555555556.\n",
      "C:\\Users\\33782\\anaconda3\\Lib\\site-packages\\sklearn\\tree\\_classes.py:269: FutureWarning: `max_features='auto'` has been deprecated in 1.1 and will be removed in 1.3. To keep the past behaviour, explicitly set `max_features='sqrt'`.\n",
      "  warnings.warn(\n",
      "[I 2024-05-23 22:54:45,647] Trial 16 finished with value: 0.417910447761194 and parameters: {'max_depth': 19, 'min_samples_split': 8, 'min_samples_leaf': 6, 'max_features': 'auto'}. Best is trial 6 with value: 0.5555555555555556.\n",
      "C:\\Users\\33782\\anaconda3\\Lib\\site-packages\\sklearn\\tree\\_classes.py:269: FutureWarning: `max_features='auto'` has been deprecated in 1.1 and will be removed in 1.3. To keep the past behaviour, explicitly set `max_features='sqrt'`.\n",
      "  warnings.warn(\n",
      "[I 2024-05-23 22:54:45,715] Trial 17 finished with value: 0.5555555555555556 and parameters: {'max_depth': 29, 'min_samples_split': 3, 'min_samples_leaf': 8, 'max_features': 'auto'}. Best is trial 6 with value: 0.5555555555555556.\n",
      "C:\\Users\\33782\\anaconda3\\Lib\\site-packages\\sklearn\\tree\\_classes.py:269: FutureWarning: `max_features='auto'` has been deprecated in 1.1 and will be removed in 1.3. To keep the past behaviour, explicitly set `max_features='sqrt'`.\n",
      "  warnings.warn(\n",
      "[I 2024-05-23 22:54:45,783] Trial 18 finished with value: 0.417910447761194 and parameters: {'max_depth': 19, 'min_samples_split': 11, 'min_samples_leaf': 6, 'max_features': 'auto'}. Best is trial 6 with value: 0.5555555555555556.\n",
      "[I 2024-05-23 22:54:45,834] Trial 19 finished with value: 0.3185840707964602 and parameters: {'max_depth': 23, 'min_samples_split': 4, 'min_samples_leaf': 9, 'max_features': 'sqrt'}. Best is trial 6 with value: 0.5555555555555556.\n"
     ]
    },
    {
     "name": "stdout",
     "output_type": "stream",
     "text": [
      "Best Parameters: {'max_depth': 24, 'min_samples_split': 2, 'min_samples_leaf': 8, 'max_features': 'auto'}\n",
      "Best Score: 0.5555555555555556\n",
      "\n",
      "Accuracy: 0.9454545454545454\n",
      "\n",
      "Confusion Matrix:\n",
      " [[401  17]\n",
      " [  7  15]]\n",
      "\n",
      "Classification Report:\n",
      "               precision    recall  f1-score   support\n",
      "\n",
      "           0       0.98      0.96      0.97       418\n",
      "           1       0.47      0.68      0.56        22\n",
      "\n",
      "    accuracy                           0.95       440\n",
      "   macro avg       0.73      0.82      0.76       440\n",
      "weighted avg       0.96      0.95      0.95       440\n",
      "\n"
     ]
    },
    {
     "name": "stderr",
     "output_type": "stream",
     "text": [
      "C:\\Users\\33782\\anaconda3\\Lib\\site-packages\\sklearn\\tree\\_classes.py:269: FutureWarning: `max_features='auto'` has been deprecated in 1.1 and will be removed in 1.3. To keep the past behaviour, explicitly set `max_features='sqrt'`.\n",
      "  warnings.warn(\n"
     ]
    }
   ],
   "source": [
    "import numpy as np\n",
    "import pandas as pd\n",
    "from sklearn.model_selection import train_test_split\n",
    "from sklearn.preprocessing import StandardScaler\n",
    "from sklearn.tree import DecisionTreeClassifier\n",
    "from sklearn.metrics import f1_score, confusion_matrix, classification_report\n",
    "import optuna\n",
    "\n",
    "\n",
    "def objective(trial):\n",
    "    # Définir les hyperparamètres à optimiser\n",
    "    max_depth = trial.suggest_int('max_depth', 2, 30)\n",
    "    min_samples_split = trial.suggest_int('min_samples_split', 2, 20)\n",
    "    min_samples_leaf = trial.suggest_int('min_samples_leaf', 1, 10)\n",
    "    max_features = trial.suggest_categorical('max_features', ['auto', 'sqrt', 'log2', None])\n",
    "    \n",
    "    # Créer un modèle DecisionTreeClassifier avec les hyperparamètres suggérés\n",
    "    dt_model = DecisionTreeClassifier(max_depth=max_depth,\n",
    "                                      min_samples_split=min_samples_split,\n",
    "                                      min_samples_leaf=min_samples_leaf,\n",
    "                                      max_features=max_features,\n",
    "                                      random_state=42)\n",
    "\n",
    "    # Entraîner le modèle\n",
    "    dt_model.fit(X_train_scaled, y_train_resampled)\n",
    "\n",
    "    # Faire des prédictions sur l'ensemble de test\n",
    "    y_pred_dt = dt_model.predict(X_test_scaled)\n",
    "\n",
    "    # Calculer le score F1\n",
    "    score = f1_score(y_test, y_pred_dt)\n",
    "\n",
    "    return score\n",
    "\n",
    "# Créer l'étude Optuna\n",
    "study = optuna.create_study(direction='maximize')\n",
    "study.optimize(objective, n_trials=20)\n",
    "\n",
    "# Afficher les meilleurs paramètres et le meilleur score\n",
    "best_params = study.best_params\n",
    "best_score = study.best_value\n",
    "print(\"Best Parameters:\", best_params)\n",
    "print(\"Best Score:\", best_score)\n",
    "\n",
    "# Utiliser les meilleurs paramètres pour créer le modèle DecisionTreeClassifier final\n",
    "best_dt_model = DecisionTreeClassifier(**best_params, random_state=42)\n",
    "best_dt_model.fit(X_train_scaled, y_train_resampled)\n",
    "\n",
    "# Faire des prédictions sur l'ensemble de test\n",
    "y_pred_dt = best_dt_model.predict(X_test_scaled)\n",
    "\n",
    "# Évaluer les performances du meilleur modèle\n",
    "accuracy_dt = accuracy_score(y_test, y_pred_dt)\n",
    "conf_matrix_dt = confusion_matrix(y_test, y_pred_dt)\n",
    "class_report_dt = classification_report(y_test, y_pred_dt)\n",
    "\n",
    "# Afficher les performances\n",
    "print(\"\\nAccuracy:\", accuracy_dt)\n",
    "print(\"\\nConfusion Matrix:\\n\", conf_matrix_dt)\n",
    "print(\"\\nClassification Report:\\n\", class_report_dt)\n"
   ]
  },
  {
   "cell_type": "code",
   "execution_count": null,
   "id": "e101a5bf",
   "metadata": {},
   "outputs": [],
   "source": [
    "from sklearn.metrics import precision_recall_curve\n",
    "\n",
    "y_scores = best_dt_model.predict_proba(X_test_scaled)[:, 1]  # Scores de décision\n",
    "\n",
    "# Calculer la courbe de précision-rappel\n",
    "precision, recall, thresholds = precision_recall_curve(y_test, y_scores)\n",
    "\n",
    "# Tracer la courbe de précision-rappel\n",
    "plt.figure()\n",
    "plt.plot(thresholds, precision[:-1], marker='.', label='precision')\n",
    "plt.plot(thresholds, recall[:-1], marker='.', label='recall')\n",
    "plt.legend()"
   ]
  },
  {
   "cell_type": "code",
   "execution_count": null,
   "id": "b52bb2d9",
   "metadata": {},
   "outputs": [],
   "source": [
    "def model_final(model,X, threshold=0):\n",
    "    return model.predict_proba(X)[:, 1] > threshold\n",
    "\n",
    "y_pred = model_final(best_dt_model, X_test_scaled, threshold = 0.75)\n",
    "\n",
    "print(confusion_matrix(y_test,y_pred))\n",
    "print(classification_report(y_test,y_pred))"
   ]
  },
  {
   "cell_type": "code",
   "execution_count": 58,
   "id": "9e68ba42",
   "metadata": {},
   "outputs": [
    {
     "name": "stderr",
     "output_type": "stream",
     "text": [
      "C:\\Users\\33782\\anaconda3\\Lib\\site-packages\\sklearn\\tree\\_classes.py:269: FutureWarning: `max_features='auto'` has been deprecated in 1.1 and will be removed in 1.3. To keep the past behaviour, explicitly set `max_features='sqrt'`.\n",
      "  warnings.warn(\n",
      "C:\\Users\\33782\\anaconda3\\Lib\\site-packages\\sklearn\\tree\\_classes.py:269: FutureWarning: `max_features='auto'` has been deprecated in 1.1 and will be removed in 1.3. To keep the past behaviour, explicitly set `max_features='sqrt'`.\n",
      "  warnings.warn(\n",
      "C:\\Users\\33782\\anaconda3\\Lib\\site-packages\\sklearn\\tree\\_classes.py:269: FutureWarning: `max_features='auto'` has been deprecated in 1.1 and will be removed in 1.3. To keep the past behaviour, explicitly set `max_features='sqrt'`.\n",
      "  warnings.warn(\n",
      "C:\\Users\\33782\\anaconda3\\Lib\\site-packages\\sklearn\\tree\\_classes.py:269: FutureWarning: `max_features='auto'` has been deprecated in 1.1 and will be removed in 1.3. To keep the past behaviour, explicitly set `max_features='sqrt'`.\n",
      "  warnings.warn(\n",
      "C:\\Users\\33782\\anaconda3\\Lib\\site-packages\\sklearn\\tree\\_classes.py:269: FutureWarning: `max_features='auto'` has been deprecated in 1.1 and will be removed in 1.3. To keep the past behaviour, explicitly set `max_features='sqrt'`.\n",
      "  warnings.warn(\n",
      "C:\\Users\\33782\\anaconda3\\Lib\\site-packages\\sklearn\\tree\\_classes.py:269: FutureWarning: `max_features='auto'` has been deprecated in 1.1 and will be removed in 1.3. To keep the past behaviour, explicitly set `max_features='sqrt'`.\n",
      "  warnings.warn(\n",
      "C:\\Users\\33782\\anaconda3\\Lib\\site-packages\\sklearn\\tree\\_classes.py:269: FutureWarning: `max_features='auto'` has been deprecated in 1.1 and will be removed in 1.3. To keep the past behaviour, explicitly set `max_features='sqrt'`.\n",
      "  warnings.warn(\n",
      "C:\\Users\\33782\\anaconda3\\Lib\\site-packages\\sklearn\\tree\\_classes.py:269: FutureWarning: `max_features='auto'` has been deprecated in 1.1 and will be removed in 1.3. To keep the past behaviour, explicitly set `max_features='sqrt'`.\n",
      "  warnings.warn(\n",
      "C:\\Users\\33782\\anaconda3\\Lib\\site-packages\\sklearn\\tree\\_classes.py:269: FutureWarning: `max_features='auto'` has been deprecated in 1.1 and will be removed in 1.3. To keep the past behaviour, explicitly set `max_features='sqrt'`.\n",
      "  warnings.warn(\n",
      "C:\\Users\\33782\\anaconda3\\Lib\\site-packages\\sklearn\\tree\\_classes.py:269: FutureWarning: `max_features='auto'` has been deprecated in 1.1 and will be removed in 1.3. To keep the past behaviour, explicitly set `max_features='sqrt'`.\n",
      "  warnings.warn(\n",
      "C:\\Users\\33782\\anaconda3\\Lib\\site-packages\\sklearn\\tree\\_classes.py:269: FutureWarning: `max_features='auto'` has been deprecated in 1.1 and will be removed in 1.3. To keep the past behaviour, explicitly set `max_features='sqrt'`.\n",
      "  warnings.warn(\n",
      "C:\\Users\\33782\\anaconda3\\Lib\\site-packages\\sklearn\\tree\\_classes.py:269: FutureWarning: `max_features='auto'` has been deprecated in 1.1 and will be removed in 1.3. To keep the past behaviour, explicitly set `max_features='sqrt'`.\n",
      "  warnings.warn(\n",
      "C:\\Users\\33782\\anaconda3\\Lib\\site-packages\\sklearn\\tree\\_classes.py:269: FutureWarning: `max_features='auto'` has been deprecated in 1.1 and will be removed in 1.3. To keep the past behaviour, explicitly set `max_features='sqrt'`.\n",
      "  warnings.warn(\n",
      "C:\\Users\\33782\\anaconda3\\Lib\\site-packages\\sklearn\\tree\\_classes.py:269: FutureWarning: `max_features='auto'` has been deprecated in 1.1 and will be removed in 1.3. To keep the past behaviour, explicitly set `max_features='sqrt'`.\n",
      "  warnings.warn(\n",
      "C:\\Users\\33782\\anaconda3\\Lib\\site-packages\\sklearn\\tree\\_classes.py:269: FutureWarning: `max_features='auto'` has been deprecated in 1.1 and will be removed in 1.3. To keep the past behaviour, explicitly set `max_features='sqrt'`.\n",
      "  warnings.warn(\n",
      "C:\\Users\\33782\\anaconda3\\Lib\\site-packages\\sklearn\\tree\\_classes.py:269: FutureWarning: `max_features='auto'` has been deprecated in 1.1 and will be removed in 1.3. To keep the past behaviour, explicitly set `max_features='sqrt'`.\n",
      "  warnings.warn(\n",
      "C:\\Users\\33782\\anaconda3\\Lib\\site-packages\\sklearn\\tree\\_classes.py:269: FutureWarning: `max_features='auto'` has been deprecated in 1.1 and will be removed in 1.3. To keep the past behaviour, explicitly set `max_features='sqrt'`.\n",
      "  warnings.warn(\n",
      "C:\\Users\\33782\\anaconda3\\Lib\\site-packages\\sklearn\\tree\\_classes.py:269: FutureWarning: `max_features='auto'` has been deprecated in 1.1 and will be removed in 1.3. To keep the past behaviour, explicitly set `max_features='sqrt'`.\n",
      "  warnings.warn(\n",
      "C:\\Users\\33782\\anaconda3\\Lib\\site-packages\\sklearn\\tree\\_classes.py:269: FutureWarning: `max_features='auto'` has been deprecated in 1.1 and will be removed in 1.3. To keep the past behaviour, explicitly set `max_features='sqrt'`.\n",
      "  warnings.warn(\n",
      "C:\\Users\\33782\\anaconda3\\Lib\\site-packages\\sklearn\\tree\\_classes.py:269: FutureWarning: `max_features='auto'` has been deprecated in 1.1 and will be removed in 1.3. To keep the past behaviour, explicitly set `max_features='sqrt'`.\n",
      "  warnings.warn(\n",
      "C:\\Users\\33782\\anaconda3\\Lib\\site-packages\\sklearn\\tree\\_classes.py:269: FutureWarning: `max_features='auto'` has been deprecated in 1.1 and will be removed in 1.3. To keep the past behaviour, explicitly set `max_features='sqrt'`.\n",
      "  warnings.warn(\n",
      "C:\\Users\\33782\\anaconda3\\Lib\\site-packages\\sklearn\\tree\\_classes.py:269: FutureWarning: `max_features='auto'` has been deprecated in 1.1 and will be removed in 1.3. To keep the past behaviour, explicitly set `max_features='sqrt'`.\n",
      "  warnings.warn(\n",
      "C:\\Users\\33782\\anaconda3\\Lib\\site-packages\\sklearn\\tree\\_classes.py:269: FutureWarning: `max_features='auto'` has been deprecated in 1.1 and will be removed in 1.3. To keep the past behaviour, explicitly set `max_features='sqrt'`.\n",
      "  warnings.warn(\n",
      "C:\\Users\\33782\\anaconda3\\Lib\\site-packages\\sklearn\\tree\\_classes.py:269: FutureWarning: `max_features='auto'` has been deprecated in 1.1 and will be removed in 1.3. To keep the past behaviour, explicitly set `max_features='sqrt'`.\n",
      "  warnings.warn(\n",
      "C:\\Users\\33782\\anaconda3\\Lib\\site-packages\\sklearn\\tree\\_classes.py:269: FutureWarning: `max_features='auto'` has been deprecated in 1.1 and will be removed in 1.3. To keep the past behaviour, explicitly set `max_features='sqrt'`.\n",
      "  warnings.warn(\n",
      "C:\\Users\\33782\\anaconda3\\Lib\\site-packages\\sklearn\\tree\\_classes.py:269: FutureWarning: `max_features='auto'` has been deprecated in 1.1 and will be removed in 1.3. To keep the past behaviour, explicitly set `max_features='sqrt'`.\n",
      "  warnings.warn(\n",
      "C:\\Users\\33782\\anaconda3\\Lib\\site-packages\\sklearn\\tree\\_classes.py:269: FutureWarning: `max_features='auto'` has been deprecated in 1.1 and will be removed in 1.3. To keep the past behaviour, explicitly set `max_features='sqrt'`.\n",
      "  warnings.warn(\n",
      "C:\\Users\\33782\\anaconda3\\Lib\\site-packages\\sklearn\\tree\\_classes.py:269: FutureWarning: `max_features='auto'` has been deprecated in 1.1 and will be removed in 1.3. To keep the past behaviour, explicitly set `max_features='sqrt'`.\n",
      "  warnings.warn(\n",
      "C:\\Users\\33782\\anaconda3\\Lib\\site-packages\\sklearn\\tree\\_classes.py:269: FutureWarning: `max_features='auto'` has been deprecated in 1.1 and will be removed in 1.3. To keep the past behaviour, explicitly set `max_features='sqrt'`.\n",
      "  warnings.warn(\n",
      "C:\\Users\\33782\\anaconda3\\Lib\\site-packages\\sklearn\\tree\\_classes.py:269: FutureWarning: `max_features='auto'` has been deprecated in 1.1 and will be removed in 1.3. To keep the past behaviour, explicitly set `max_features='sqrt'`.\n",
      "  warnings.warn(\n",
      "C:\\Users\\33782\\anaconda3\\Lib\\site-packages\\sklearn\\tree\\_classes.py:269: FutureWarning: `max_features='auto'` has been deprecated in 1.1 and will be removed in 1.3. To keep the past behaviour, explicitly set `max_features='sqrt'`.\n",
      "  warnings.warn(\n",
      "C:\\Users\\33782\\anaconda3\\Lib\\site-packages\\sklearn\\tree\\_classes.py:269: FutureWarning: `max_features='auto'` has been deprecated in 1.1 and will be removed in 1.3. To keep the past behaviour, explicitly set `max_features='sqrt'`.\n",
      "  warnings.warn(\n",
      "C:\\Users\\33782\\anaconda3\\Lib\\site-packages\\sklearn\\tree\\_classes.py:269: FutureWarning: `max_features='auto'` has been deprecated in 1.1 and will be removed in 1.3. To keep the past behaviour, explicitly set `max_features='sqrt'`.\n",
      "  warnings.warn(\n",
      "C:\\Users\\33782\\anaconda3\\Lib\\site-packages\\sklearn\\tree\\_classes.py:269: FutureWarning: `max_features='auto'` has been deprecated in 1.1 and will be removed in 1.3. To keep the past behaviour, explicitly set `max_features='sqrt'`.\n",
      "  warnings.warn(\n",
      "C:\\Users\\33782\\anaconda3\\Lib\\site-packages\\sklearn\\tree\\_classes.py:269: FutureWarning: `max_features='auto'` has been deprecated in 1.1 and will be removed in 1.3. To keep the past behaviour, explicitly set `max_features='sqrt'`.\n",
      "  warnings.warn(\n",
      "C:\\Users\\33782\\anaconda3\\Lib\\site-packages\\sklearn\\tree\\_classes.py:269: FutureWarning: `max_features='auto'` has been deprecated in 1.1 and will be removed in 1.3. To keep the past behaviour, explicitly set `max_features='sqrt'`.\n",
      "  warnings.warn(\n",
      "C:\\Users\\33782\\anaconda3\\Lib\\site-packages\\sklearn\\tree\\_classes.py:269: FutureWarning: `max_features='auto'` has been deprecated in 1.1 and will be removed in 1.3. To keep the past behaviour, explicitly set `max_features='sqrt'`.\n",
      "  warnings.warn(\n",
      "C:\\Users\\33782\\anaconda3\\Lib\\site-packages\\sklearn\\tree\\_classes.py:269: FutureWarning: `max_features='auto'` has been deprecated in 1.1 and will be removed in 1.3. To keep the past behaviour, explicitly set `max_features='sqrt'`.\n",
      "  warnings.warn(\n",
      "C:\\Users\\33782\\anaconda3\\Lib\\site-packages\\sklearn\\tree\\_classes.py:269: FutureWarning: `max_features='auto'` has been deprecated in 1.1 and will be removed in 1.3. To keep the past behaviour, explicitly set `max_features='sqrt'`.\n",
      "  warnings.warn(\n"
     ]
    },
    {
     "name": "stderr",
     "output_type": "stream",
     "text": [
      "C:\\Users\\33782\\anaconda3\\Lib\\site-packages\\sklearn\\tree\\_classes.py:269: FutureWarning: `max_features='auto'` has been deprecated in 1.1 and will be removed in 1.3. To keep the past behaviour, explicitly set `max_features='sqrt'`.\n",
      "  warnings.warn(\n",
      "C:\\Users\\33782\\anaconda3\\Lib\\site-packages\\sklearn\\tree\\_classes.py:269: FutureWarning: `max_features='auto'` has been deprecated in 1.1 and will be removed in 1.3. To keep the past behaviour, explicitly set `max_features='sqrt'`.\n",
      "  warnings.warn(\n",
      "C:\\Users\\33782\\anaconda3\\Lib\\site-packages\\sklearn\\tree\\_classes.py:269: FutureWarning: `max_features='auto'` has been deprecated in 1.1 and will be removed in 1.3. To keep the past behaviour, explicitly set `max_features='sqrt'`.\n",
      "  warnings.warn(\n",
      "C:\\Users\\33782\\anaconda3\\Lib\\site-packages\\sklearn\\tree\\_classes.py:269: FutureWarning: `max_features='auto'` has been deprecated in 1.1 and will be removed in 1.3. To keep the past behaviour, explicitly set `max_features='sqrt'`.\n",
      "  warnings.warn(\n",
      "C:\\Users\\33782\\anaconda3\\Lib\\site-packages\\sklearn\\tree\\_classes.py:269: FutureWarning: `max_features='auto'` has been deprecated in 1.1 and will be removed in 1.3. To keep the past behaviour, explicitly set `max_features='sqrt'`.\n",
      "  warnings.warn(\n",
      "C:\\Users\\33782\\anaconda3\\Lib\\site-packages\\sklearn\\tree\\_classes.py:269: FutureWarning: `max_features='auto'` has been deprecated in 1.1 and will be removed in 1.3. To keep the past behaviour, explicitly set `max_features='sqrt'`.\n",
      "  warnings.warn(\n",
      "C:\\Users\\33782\\anaconda3\\Lib\\site-packages\\sklearn\\tree\\_classes.py:269: FutureWarning: `max_features='auto'` has been deprecated in 1.1 and will be removed in 1.3. To keep the past behaviour, explicitly set `max_features='sqrt'`.\n",
      "  warnings.warn(\n",
      "C:\\Users\\33782\\anaconda3\\Lib\\site-packages\\sklearn\\tree\\_classes.py:269: FutureWarning: `max_features='auto'` has been deprecated in 1.1 and will be removed in 1.3. To keep the past behaviour, explicitly set `max_features='sqrt'`.\n",
      "  warnings.warn(\n",
      "C:\\Users\\33782\\anaconda3\\Lib\\site-packages\\sklearn\\tree\\_classes.py:269: FutureWarning: `max_features='auto'` has been deprecated in 1.1 and will be removed in 1.3. To keep the past behaviour, explicitly set `max_features='sqrt'`.\n",
      "  warnings.warn(\n",
      "C:\\Users\\33782\\anaconda3\\Lib\\site-packages\\sklearn\\tree\\_classes.py:269: FutureWarning: `max_features='auto'` has been deprecated in 1.1 and will be removed in 1.3. To keep the past behaviour, explicitly set `max_features='sqrt'`.\n",
      "  warnings.warn(\n",
      "C:\\Users\\33782\\anaconda3\\Lib\\site-packages\\sklearn\\tree\\_classes.py:269: FutureWarning: `max_features='auto'` has been deprecated in 1.1 and will be removed in 1.3. To keep the past behaviour, explicitly set `max_features='sqrt'`.\n",
      "  warnings.warn(\n"
     ]
    },
    {
     "data": {
      "image/png": "[encoded data removed]",
      "text/plain": [
       "<Figure size 800x400 with 1 Axes>"
      ]
     },
     "metadata": {},
     "output_type": "display_data"
    }
   ],
   "source": [
    "learningcurve(best_dt_model)"
   ]
  },
  {
   "cell_type": "markdown",
   "id": "893eacdb",
   "metadata": {},
   "source": [
    "# Random Forest"
   ]
  },
  {
   "cell_type": "code",
   "execution_count": 59,
   "id": "792926a9",
   "metadata": {
    "scrolled": true
   },
   "outputs": [
    {
     "name": "stderr",
     "output_type": "stream",
     "text": [
      "[I 2024-05-23 22:56:08,585] A new study created in memory with name: no-name-9c78966d-d290-40ea-9f6d-a721c4b9a087\n",
      "[I 2024-05-23 22:56:11,633] Trial 0 finished with value: 0.7000000000000001 and parameters: {'n_estimators': 164, 'max_depth': 82, 'min_samples_split': 6, 'min_samples_leaf': 7, 'max_features': 'sqrt'}. Best is trial 0 with value: 0.7000000000000001.\n",
      "[I 2024-05-23 22:56:14,146] Trial 1 finished with value: 0.6666666666666666 and parameters: {'n_estimators': 105, 'max_depth': 91, 'min_samples_split': 13, 'min_samples_leaf': 4, 'max_features': 'sqrt'}. Best is trial 0 with value: 0.7000000000000001.\n",
      "[I 2024-05-23 22:56:17,898] Trial 2 finished with value: 0.6176470588235293 and parameters: {'n_estimators': 157, 'max_depth': 19, 'min_samples_split': 10, 'min_samples_leaf': 10, 'max_features': 'sqrt'}. Best is trial 0 with value: 0.7000000000000001.\n",
      "C:\\Users\\33782\\anaconda3\\Lib\\site-packages\\sklearn\\ensemble\\_forest.py:424: FutureWarning: `max_features='auto'` has been deprecated in 1.1 and will be removed in 1.3. To keep the past behaviour, explicitly set `max_features='sqrt'` or remove this parameter as it is also the default value for RandomForestClassifiers and ExtraTreesClassifiers.\n",
      "  warn(\n",
      "[I 2024-05-23 22:56:21,594] Trial 3 finished with value: 0.6666666666666667 and parameters: {'n_estimators': 165, 'max_depth': 39, 'min_samples_split': 19, 'min_samples_leaf': 8, 'max_features': 'auto'}. Best is trial 0 with value: 0.7000000000000001.\n",
      "C:\\Users\\33782\\anaconda3\\Lib\\site-packages\\sklearn\\ensemble\\_forest.py:424: FutureWarning: `max_features='auto'` has been deprecated in 1.1 and will be removed in 1.3. To keep the past behaviour, explicitly set `max_features='sqrt'` or remove this parameter as it is also the default value for RandomForestClassifiers and ExtraTreesClassifiers.\n",
      "  warn(\n",
      "[I 2024-05-23 22:56:26,283] Trial 4 finished with value: 0.6779661016949153 and parameters: {'n_estimators': 196, 'max_depth': 16, 'min_samples_split': 5, 'min_samples_leaf': 3, 'max_features': 'auto'}. Best is trial 0 with value: 0.7000000000000001.\n",
      "[I 2024-05-23 22:56:28,771] Trial 5 finished with value: 0.711864406779661 and parameters: {'n_estimators': 143, 'max_depth': 58, 'min_samples_split': 15, 'min_samples_leaf': 8, 'max_features': 'log2'}. Best is trial 5 with value: 0.711864406779661.\n",
      "C:\\Users\\33782\\anaconda3\\Lib\\site-packages\\sklearn\\ensemble\\_forest.py:424: FutureWarning: `max_features='auto'` has been deprecated in 1.1 and will be removed in 1.3. To keep the past behaviour, explicitly set `max_features='sqrt'` or remove this parameter as it is also the default value for RandomForestClassifiers and ExtraTreesClassifiers.\n",
      "  warn(\n",
      "[I 2024-05-23 22:56:30,261] Trial 6 finished with value: 0.7659574468085107 and parameters: {'n_estimators': 59, 'max_depth': 38, 'min_samples_split': 20, 'min_samples_leaf': 1, 'max_features': 'auto'}. Best is trial 6 with value: 0.7659574468085107.\n",
      "[I 2024-05-23 22:56:32,356] Trial 7 finished with value: 0.7000000000000001 and parameters: {'n_estimators': 87, 'max_depth': 20, 'min_samples_split': 18, 'min_samples_leaf': 4, 'max_features': 'sqrt'}. Best is trial 6 with value: 0.7659574468085107.\n",
      "C:\\Users\\33782\\anaconda3\\Lib\\site-packages\\sklearn\\ensemble\\_forest.py:424: FutureWarning: `max_features='auto'` has been deprecated in 1.1 and will be removed in 1.3. To keep the past behaviour, explicitly set `max_features='sqrt'` or remove this parameter as it is also the default value for RandomForestClassifiers and ExtraTreesClassifiers.\n",
      "  warn(\n",
      "[I 2024-05-23 22:56:36,343] Trial 8 finished with value: 0.7272727272727273 and parameters: {'n_estimators': 164, 'max_depth': 86, 'min_samples_split': 14, 'min_samples_leaf': 3, 'max_features': 'auto'}. Best is trial 6 with value: 0.7659574468085107.\n",
      "C:\\Users\\33782\\anaconda3\\Lib\\site-packages\\sklearn\\ensemble\\_forest.py:424: FutureWarning: `max_features='auto'` has been deprecated in 1.1 and will be removed in 1.3. To keep the past behaviour, explicitly set `max_features='sqrt'` or remove this parameter as it is also the default value for RandomForestClassifiers and ExtraTreesClassifiers.\n",
      "  warn(\n",
      "[I 2024-05-23 22:56:40,442] Trial 9 finished with value: 0.7450980392156864 and parameters: {'n_estimators': 166, 'max_depth': 41, 'min_samples_split': 7, 'min_samples_leaf': 3, 'max_features': 'auto'}. Best is trial 6 with value: 0.7659574468085107.\n",
      "[I 2024-05-23 22:56:41,368] Trial 10 finished with value: 0.711111111111111 and parameters: {'n_estimators': 51, 'max_depth': 63, 'min_samples_split': 20, 'min_samples_leaf': 1, 'max_features': 'log2'}. Best is trial 6 with value: 0.7659574468085107.\n",
      "C:\\Users\\33782\\anaconda3\\Lib\\site-packages\\sklearn\\ensemble\\_forest.py:424: FutureWarning: `max_features='auto'` has been deprecated in 1.1 and will be removed in 1.3. To keep the past behaviour, explicitly set `max_features='sqrt'` or remove this parameter as it is also the default value for RandomForestClassifiers and ExtraTreesClassifiers.\n",
      "  warn(\n",
      "[I 2024-05-23 22:56:42,716] Trial 11 finished with value: 0.7826086956521738 and parameters: {'n_estimators': 53, 'max_depth': 40, 'min_samples_split': 9, 'min_samples_leaf': 1, 'max_features': 'auto'}. Best is trial 11 with value: 0.7826086956521738.\n",
      "C:\\Users\\33782\\anaconda3\\Lib\\site-packages\\sklearn\\ensemble\\_forest.py:424: FutureWarning: `max_features='auto'` has been deprecated in 1.1 and will be removed in 1.3. To keep the past behaviour, explicitly set `max_features='sqrt'` or remove this parameter as it is also the default value for RandomForestClassifiers and ExtraTreesClassifiers.\n",
      "  warn(\n",
      "[I 2024-05-23 22:56:44,280] Trial 12 finished with value: 0.7826086956521738 and parameters: {'n_estimators': 58, 'max_depth': 36, 'min_samples_split': 9, 'min_samples_leaf': 1, 'max_features': 'auto'}. Best is trial 11 with value: 0.7826086956521738.\n",
      "C:\\Users\\33782\\anaconda3\\Lib\\site-packages\\sklearn\\ensemble\\_forest.py:424: FutureWarning: `max_features='auto'` has been deprecated in 1.1 and will be removed in 1.3. To keep the past behaviour, explicitly set `max_features='sqrt'` or remove this parameter as it is also the default value for RandomForestClassifiers and ExtraTreesClassifiers.\n",
      "  warn(\n",
      "[I 2024-05-23 22:56:45,167] Trial 13 finished with value: 0.4782608695652174 and parameters: {'n_estimators': 75, 'max_depth': 5, 'min_samples_split': 2, 'min_samples_leaf': 1, 'max_features': 'auto'}. Best is trial 11 with value: 0.7826086956521738.\n",
      "C:\\Users\\33782\\anaconda3\\Lib\\site-packages\\sklearn\\ensemble\\_forest.py:424: FutureWarning: `max_features='auto'` has been deprecated in 1.1 and will be removed in 1.3. To keep the past behaviour, explicitly set `max_features='sqrt'` or remove this parameter as it is also the default value for RandomForestClassifiers and ExtraTreesClassifiers.\n",
      "  warn(\n",
      "[I 2024-05-23 22:56:47,505] Trial 14 finished with value: 0.6779661016949153 and parameters: {'n_estimators': 111, 'max_depth': 71, 'min_samples_split': 9, 'min_samples_leaf': 5, 'max_features': 'auto'}. Best is trial 11 with value: 0.7826086956521738.\n",
      "C:\\Users\\33782\\anaconda3\\Lib\\site-packages\\sklearn\\ensemble\\_forest.py:424: FutureWarning: `max_features='auto'` has been deprecated in 1.1 and will be removed in 1.3. To keep the past behaviour, explicitly set `max_features='sqrt'` or remove this parameter as it is also the default value for RandomForestClassifiers and ExtraTreesClassifiers.\n",
      "  warn(\n",
      "[I 2024-05-23 22:56:49,282] Trial 15 finished with value: 0.7500000000000001 and parameters: {'n_estimators': 79, 'max_depth': 47, 'min_samples_split': 12, 'min_samples_leaf': 2, 'max_features': 'auto'}. Best is trial 11 with value: 0.7826086956521738.\n",
      "[I 2024-05-23 22:56:50,260] Trial 16 finished with value: 0.7000000000000001 and parameters: {'n_estimators': 67, 'max_depth': 28, 'min_samples_split': 8, 'min_samples_leaf': 6, 'max_features': 'log2'}. Best is trial 11 with value: 0.7826086956521738.\n",
      "C:\\Users\\33782\\anaconda3\\Lib\\site-packages\\sklearn\\ensemble\\_forest.py:424: FutureWarning: `max_features='auto'` has been deprecated in 1.1 and will be removed in 1.3. To keep the past behaviour, explicitly set `max_features='sqrt'` or remove this parameter as it is also the default value for RandomForestClassifiers and ExtraTreesClassifiers.\n",
      "  warn(\n"
     ]
    },
    {
     "name": "stderr",
     "output_type": "stream",
     "text": [
      "[I 2024-05-23 22:56:52,329] Trial 17 finished with value: 0.6909090909090909 and parameters: {'n_estimators': 97, 'max_depth': 53, 'min_samples_split': 4, 'min_samples_leaf': 2, 'max_features': 'auto'}. Best is trial 11 with value: 0.7826086956521738.\n",
      "C:\\Users\\33782\\anaconda3\\Lib\\site-packages\\sklearn\\ensemble\\_forest.py:424: FutureWarning: `max_features='auto'` has been deprecated in 1.1 and will be removed in 1.3. To keep the past behaviour, explicitly set `max_features='sqrt'` or remove this parameter as it is also the default value for RandomForestClassifiers and ExtraTreesClassifiers.\n",
      "  warn(\n",
      "[I 2024-05-23 22:56:54,926] Trial 18 finished with value: 0.7083333333333333 and parameters: {'n_estimators': 119, 'max_depth': 30, 'min_samples_split': 11, 'min_samples_leaf': 2, 'max_features': 'auto'}. Best is trial 11 with value: 0.7826086956521738.\n",
      "[I 2024-05-23 22:56:55,749] Trial 19 finished with value: 0.7000000000000001 and parameters: {'n_estimators': 50, 'max_depth': 69, 'min_samples_split': 16, 'min_samples_leaf': 5, 'max_features': 'log2'}. Best is trial 11 with value: 0.7826086956521738.\n",
      "C:\\Users\\33782\\anaconda3\\Lib\\site-packages\\sklearn\\ensemble\\_forest.py:424: FutureWarning: `max_features='auto'` has been deprecated in 1.1 and will be removed in 1.3. To keep the past behaviour, explicitly set `max_features='sqrt'` or remove this parameter as it is also the default value for RandomForestClassifiers and ExtraTreesClassifiers.\n",
      "  warn(\n"
     ]
    },
    {
     "name": "stdout",
     "output_type": "stream",
     "text": [
      "Best Parameters: {'n_estimators': 53, 'max_depth': 40, 'min_samples_split': 9, 'min_samples_leaf': 1, 'max_features': 'auto'}\n",
      "Best Score: 0.7826086956521738\n",
      "\n",
      "Accuracy: 0.9772727272727273\n",
      "\n",
      "Confusion Matrix:\n",
      " [[412   6]\n",
      " [  4  18]]\n",
      "\n",
      "Classification Report:\n",
      "               precision    recall  f1-score   support\n",
      "\n",
      "           0       0.99      0.99      0.99       418\n",
      "           1       0.75      0.82      0.78        22\n",
      "\n",
      "    accuracy                           0.98       440\n",
      "   macro avg       0.87      0.90      0.89       440\n",
      "weighted avg       0.98      0.98      0.98       440\n",
      "\n"
     ]
    }
   ],
   "source": [
    "import numpy as np\n",
    "import pandas as pd\n",
    "from sklearn.model_selection import train_test_split\n",
    "from sklearn.preprocessing import StandardScaler\n",
    "from sklearn.ensemble import RandomForestClassifier\n",
    "from sklearn.metrics import f1_score, confusion_matrix, classification_report\n",
    "import optuna\n",
    "\n",
    "\n",
    "\n",
    "def objective(trial):\n",
    "    # Définir les hyperparamètres à optimiser\n",
    "    n_estimators = trial.suggest_int('n_estimators', 50, 200)\n",
    "    max_depth = trial.suggest_int('max_depth', 3, 100)\n",
    "    min_samples_split = trial.suggest_int('min_samples_split', 2, 20)\n",
    "    min_samples_leaf = trial.suggest_int('min_samples_leaf', 1, 10)\n",
    "    max_features = trial.suggest_categorical('max_features', ['auto', 'sqrt', 'log2'])\n",
    "    \n",
    "    # Créer un modèle Random Forest avec les hyperparamètres suggérés\n",
    "    rf_model = RandomForestClassifier(n_estimators=n_estimators,\n",
    "                                       max_depth=max_depth,\n",
    "                                       min_samples_split=min_samples_split,\n",
    "                                       min_samples_leaf=min_samples_leaf,\n",
    "                                       max_features=max_features,\n",
    "                                       random_state=42)\n",
    "\n",
    "    # Entraîner le modèle\n",
    "    rf_model.fit(X_train_scaled, y_train_resampled)\n",
    "\n",
    "    # Faire des prédictions sur l'ensemble de test\n",
    "    y_pred_rf = rf_model.predict(X_test_scaled)\n",
    "\n",
    "    # Calculer le score F1\n",
    "    score = f1_score(y_test, y_pred_rf)\n",
    "\n",
    "    return score\n",
    "\n",
    "# Créer l'étude Optuna\n",
    "study = optuna.create_study(direction='maximize')\n",
    "study.optimize(objective, n_trials=20)\n",
    "\n",
    "# Afficher les meilleurs paramètres et le meilleur score\n",
    "best_params = study.best_params\n",
    "best_score = study.best_value\n",
    "print(\"Best Parameters:\", best_params)\n",
    "print(\"Best Score:\", best_score)\n",
    "\n",
    "# Utiliser les meilleurs paramètres pour créer le modèle Random Forest final\n",
    "best_rf_model = RandomForestClassifier(**best_params, random_state=42)\n",
    "best_rf_model.fit(X_train_scaled, y_train_resampled)\n",
    "\n",
    "# Faire des prédictions sur l'ensemble de test\n",
    "y_pred_rf = best_rf_model.predict(X_test_scaled)\n",
    "\n",
    "# Évaluer les performances du meilleur modèle\n",
    "accuracy_rf = accuracy_score(y_test, y_pred_rf)\n",
    "conf_matrix_rf = confusion_matrix(y_test, y_pred_rf)\n",
    "class_report_rf = classification_report(y_test, y_pred_rf)\n",
    "\n",
    "# Afficher les performances\n",
    "print(\"\\nAccuracy:\", accuracy_rf)\n",
    "print(\"\\nConfusion Matrix:\\n\", conf_matrix_rf)\n",
    "print(\"\\nClassification Report:\\n\", class_report_rf)\n"
   ]
  },
  {
   "cell_type": "code",
   "execution_count": 64,
   "id": "db22ec72",
   "metadata": {},
   "outputs": [
    {
     "name": "stdout",
     "output_type": "stream",
     "text": [
      "\n",
      "Accuracy: 0.9568181818181818\n",
      "\n",
      "Confusion Matrix:\n",
      " [[401  17]\n",
      " [  2  20]]\n",
      "\n",
      "Classification Report:\n",
      "               precision    recall  f1-score   support\n",
      "\n",
      "           0       1.00      0.96      0.98       418\n",
      "           1       0.54      0.91      0.68        22\n",
      "\n",
      "    accuracy                           0.96       440\n",
      "   macro avg       0.77      0.93      0.83       440\n",
      "weighted avg       0.97      0.96      0.96       440\n",
      "\n"
     ]
    }
   ],
   "source": [
    "RandomForest = RandomForestClassifier(n_estimators= 105,\n",
    "                                      max_depth= 91,\n",
    "                                      min_samples_split=13,\n",
    "                                      min_samples_leaf= 4,\n",
    "                                      max_features= 'sqrt')\n",
    "\n",
    "RandomForest.fit(X_train_scaled, y_train_resampled)\n",
    "\n",
    "# Faire des prédictions sur l'ensemble de test\n",
    "y_pred_rf = RandomForest.predict(X_test_scaled)\n",
    "\n",
    "# Évaluer les performances du meilleur modèle\n",
    "accuracy_rf = accuracy_score(y_test, y_pred_rf)\n",
    "conf_matrix_rf = confusion_matrix(y_test, y_pred_rf)\n",
    "class_report_rf = classification_report(y_test, y_pred_rf)\n",
    "\n",
    "# Afficher les performances\n",
    "print(\"\\nAccuracy:\", accuracy_rf)\n",
    "print(\"\\nConfusion Matrix:\\n\", conf_matrix_rf)\n",
    "print(\"\\nClassification Report:\\n\", class_report_rf)"
   ]
  },
  {
   "cell_type": "code",
   "execution_count": null,
   "id": "4443ad1c",
   "metadata": {},
   "outputs": [],
   "source": [
    "# Utiliser les meilleurs paramètres pour créer le modèle Random Forest final\n",
    "GB = GradientBoostingClassifier(learning_rate=0.028780546295907667,\n",
    "                                n_estimators=76,\n",
    "                                max_depth=6,\n",
    "                                min_samples_split=6,\n",
    "                                min_samples_leaf=1,\n",
    "                                random_state=42)\n",
    "GB.fit(X_train_scaled, y_train_resampled)\n",
    "\n",
    "# Faire des prédictions sur l'ensemble de test\n",
    "y_pred_rf = GB.predict(X_test_scaled)\n",
    "\n",
    "# Évaluer les performances du meilleur modèle\n",
    "accuracy_rf = accuracy_score(y_test, y_pred_rf)\n",
    "conf_matrix_rf = confusion_matrix(y_test, y_pred_rf)\n",
    "class_report_rf = classification_report(y_test, y_pred_rf)\n",
    "\n",
    "# Afficher les performances\n",
    "print(\"\\nAccuracy:\", accuracy_rf)\n",
    "print(\"\\nConfusion Matrix:\\n\", conf_matrix_rf)\n",
    "print(\"\\nClassification Report:\\n\", class_report_rf)"
   ]
  },
  {
   "cell_type": "code",
   "execution_count": null,
   "id": "598e3b4f",
   "metadata": {
    "scrolled": true
   },
   "outputs": [],
   "source": [
    "import numpy as np\n",
    "import pandas as pd\n",
    "from sklearn.model_selection import train_test_split\n",
    "from sklearn.preprocessing import StandardScaler\n",
    "from sklearn.ensemble import RandomForestClassifier\n",
    "from sklearn.metrics import f1_score, confusion_matrix, classification_report\n",
    "import optuna\n",
    "\n",
    "\n",
    "\n",
    "def objective(trial):\n",
    "    # Définir les hyperparamètres à optimiser\n",
    "    n_estimators = trial.suggest_int('n_estimators', 50, 200)\n",
    "    max_depth = trial.suggest_int('max_depth', 3, 50)\n",
    "    min_samples_split = trial.suggest_int('min_samples_split', 2, 20)\n",
    "    min_samples_leaf = trial.suggest_int('min_samples_leaf', 1, 10)\n",
    "    max_features = trial.suggest_categorical('max_features', ['auto', 'sqrt', 'log2'])\n",
    "    \n",
    "    # Créer un modèle Random Forest avec les hyperparamètres suggérés\n",
    "    rf_model = RandomForestClassifier(n_estimators=n_estimators,\n",
    "                                       max_depth=max_depth,\n",
    "                                       min_samples_split=min_samples_split,\n",
    "                                       min_samples_leaf=min_samples_leaf,\n",
    "                                       max_features=max_features,\n",
    "                                       random_state=42)\n",
    "\n",
    "    # Entraîner le modèle\n",
    "    rf_model.fit(X_train_scaled, y_train_resampled)\n",
    "\n",
    "    # Faire des prédictions sur l'ensemble de test\n",
    "    y_pred_rf = rf_model.predict(X_test_scaled)\n",
    "\n",
    "    # Calculer le score F1\n",
    "    score = f1_score(y_test, y_pred_rf)\n",
    "\n",
    "    return score\n",
    "\n",
    "# Créer l'étude Optuna\n",
    "study = optuna.create_study(direction='maximize')\n",
    "study.optimize(objective, n_trials=50)\n",
    "\n",
    "# Afficher les meilleurs paramètres et le meilleur score\n",
    "best_params = study.best_params\n",
    "best_score = study.best_value\n",
    "print(\"Best Parameters:\", best_params)\n",
    "print(\"Best Score:\", best_score)\n",
    "\n",
    "# Utiliser les meilleurs paramètres pour créer le modèle Random Forest final\n",
    "best_rf_model = RandomForestClassifier(**best_params, random_state=42)\n",
    "best_rf_model.fit(X_train_scaled, y_train_resampled)\n",
    "\n",
    "# Faire des prédictions sur l'ensemble de test\n",
    "y_pred_rf = best_rf_model.predict(X_test_scaled)\n",
    "\n",
    "# Évaluer les performances du meilleur modèle\n",
    "accuracy_rf = accuracy_score(y_test, y_pred_rf)\n",
    "conf_matrix_rf = confusion_matrix(y_test, y_pred_rf)\n",
    "class_report_rf = classification_report(y_test, y_pred_rf)\n",
    "\n",
    "# Afficher les performances\n",
    "print(\"\\nAccuracy:\", accuracy_rf)\n",
    "print(\"\\nConfusion Matrix:\\n\", conf_matrix_rf)\n",
    "print(\"\\nClassification Report:\\n\", class_report_rf)\n"
   ]
  },
  {
   "cell_type": "code",
   "execution_count": null,
   "id": "fd0d9d50",
   "metadata": {},
   "outputs": [],
   "source": [
    "from sklearn.metrics import precision_recall_curve\n",
    "\n",
    "y_scores = best_rf_model.predict_proba(X_test_scaled)[:, 1]  # Scores de décision\n",
    "\n",
    "# Calculer la courbe de précision-rappel\n",
    "precision, recall, thresholds = precision_recall_curve(y_test, y_scores)\n",
    "\n",
    "# Tracer la courbe de précision-rappel\n",
    "plt.figure()\n",
    "plt.plot(thresholds, precision[:-1], marker='.', label='precision')\n",
    "plt.plot(thresholds, recall[:-1], marker='.', label='recall')\n",
    "plt.legend()"
   ]
  },
  {
   "cell_type": "code",
   "execution_count": null,
   "id": "48c3ebd3",
   "metadata": {},
   "outputs": [],
   "source": [
    "def model_final(model,X, threshold=0):\n",
    "    return model.predict_proba(X)[:, 1] > threshold\n",
    "\n",
    "y_pred = model_final(best_rf_model, X_test_scaled, threshold = 0.55)\n",
    "\n",
    "print(confusion_matrix(y_test,y_pred))\n",
    "print(classification_report(y_test,y_pred))"
   ]
  },
  {
   "cell_type": "code",
   "execution_count": null,
   "id": "65ca0f58",
   "metadata": {},
   "outputs": [],
   "source": [
    "y_pred = model_final(best_rf_model, X_test_scaled, threshold = 0.55)"
   ]
  },
  {
   "cell_type": "code",
   "execution_count": null,
   "id": "2765ce1c",
   "metadata": {},
   "outputs": [],
   "source": [
    "print(confusion_matrix(y_test,y_pred))\n",
    "print(classification_report(y_test,y_pred))"
   ]
  },
  {
   "cell_type": "code",
   "execution_count": 43,
   "id": "1f7c598b",
   "metadata": {},
   "outputs": [],
   "source": [
    "\n",
    "\n",
    "def learningcurve(model):\n",
    "    \n",
    "    \n",
    "    train_sizes, train_scores, valid_scores = learning_curve(model,\n",
    "                                                             X_train_scaled,\n",
    "                                                             y_train_resampled,\n",
    "                                                             train_sizes=[i/10 for i in range(1,11)])\n",
    "\n",
    "    plt.figure(figsize=(8,4))\n",
    "    plt.plot(train_sizes, train_scores.mean(axis=1), label='training',marker='.', color='blue')\n",
    "    plt.plot(train_sizes, valid_scores.mean(axis=1), label='validaiton',marker='.', color='orange')\n",
    "    plt.legend(loc='lower right')\n",
    "    plt.ylim(0,1)"
   ]
  },
  {
   "cell_type": "code",
   "execution_count": 60,
   "id": "fd810f2c",
   "metadata": {
    "scrolled": true
   },
   "outputs": [
    {
     "name": "stderr",
     "output_type": "stream",
     "text": [
      "C:\\Users\\33782\\anaconda3\\Lib\\site-packages\\sklearn\\ensemble\\_forest.py:424: FutureWarning: `max_features='auto'` has been deprecated in 1.1 and will be removed in 1.3. To keep the past behaviour, explicitly set `max_features='sqrt'` or remove this parameter as it is also the default value for RandomForestClassifiers and ExtraTreesClassifiers.\n",
      "  warn(\n",
      "C:\\Users\\33782\\anaconda3\\Lib\\site-packages\\sklearn\\ensemble\\_forest.py:424: FutureWarning: `max_features='auto'` has been deprecated in 1.1 and will be removed in 1.3. To keep the past behaviour, explicitly set `max_features='sqrt'` or remove this parameter as it is also the default value for RandomForestClassifiers and ExtraTreesClassifiers.\n",
      "  warn(\n",
      "C:\\Users\\33782\\anaconda3\\Lib\\site-packages\\sklearn\\ensemble\\_forest.py:424: FutureWarning: `max_features='auto'` has been deprecated in 1.1 and will be removed in 1.3. To keep the past behaviour, explicitly set `max_features='sqrt'` or remove this parameter as it is also the default value for RandomForestClassifiers and ExtraTreesClassifiers.\n",
      "  warn(\n",
      "C:\\Users\\33782\\anaconda3\\Lib\\site-packages\\sklearn\\ensemble\\_forest.py:424: FutureWarning: `max_features='auto'` has been deprecated in 1.1 and will be removed in 1.3. To keep the past behaviour, explicitly set `max_features='sqrt'` or remove this parameter as it is also the default value for RandomForestClassifiers and ExtraTreesClassifiers.\n",
      "  warn(\n",
      "C:\\Users\\33782\\anaconda3\\Lib\\site-packages\\sklearn\\ensemble\\_forest.py:424: FutureWarning: `max_features='auto'` has been deprecated in 1.1 and will be removed in 1.3. To keep the past behaviour, explicitly set `max_features='sqrt'` or remove this parameter as it is also the default value for RandomForestClassifiers and ExtraTreesClassifiers.\n",
      "  warn(\n",
      "C:\\Users\\33782\\anaconda3\\Lib\\site-packages\\sklearn\\ensemble\\_forest.py:424: FutureWarning: `max_features='auto'` has been deprecated in 1.1 and will be removed in 1.3. To keep the past behaviour, explicitly set `max_features='sqrt'` or remove this parameter as it is also the default value for RandomForestClassifiers and ExtraTreesClassifiers.\n",
      "  warn(\n",
      "C:\\Users\\33782\\anaconda3\\Lib\\site-packages\\sklearn\\ensemble\\_forest.py:424: FutureWarning: `max_features='auto'` has been deprecated in 1.1 and will be removed in 1.3. To keep the past behaviour, explicitly set `max_features='sqrt'` or remove this parameter as it is also the default value for RandomForestClassifiers and ExtraTreesClassifiers.\n",
      "  warn(\n",
      "C:\\Users\\33782\\anaconda3\\Lib\\site-packages\\sklearn\\ensemble\\_forest.py:424: FutureWarning: `max_features='auto'` has been deprecated in 1.1 and will be removed in 1.3. To keep the past behaviour, explicitly set `max_features='sqrt'` or remove this parameter as it is also the default value for RandomForestClassifiers and ExtraTreesClassifiers.\n",
      "  warn(\n",
      "C:\\Users\\33782\\anaconda3\\Lib\\site-packages\\sklearn\\ensemble\\_forest.py:424: FutureWarning: `max_features='auto'` has been deprecated in 1.1 and will be removed in 1.3. To keep the past behaviour, explicitly set `max_features='sqrt'` or remove this parameter as it is also the default value for RandomForestClassifiers and ExtraTreesClassifiers.\n",
      "  warn(\n",
      "C:\\Users\\33782\\anaconda3\\Lib\\site-packages\\sklearn\\ensemble\\_forest.py:424: FutureWarning: `max_features='auto'` has been deprecated in 1.1 and will be removed in 1.3. To keep the past behaviour, explicitly set `max_features='sqrt'` or remove this parameter as it is also the default value for RandomForestClassifiers and ExtraTreesClassifiers.\n",
      "  warn(\n",
      "C:\\Users\\33782\\anaconda3\\Lib\\site-packages\\sklearn\\ensemble\\_forest.py:424: FutureWarning: `max_features='auto'` has been deprecated in 1.1 and will be removed in 1.3. To keep the past behaviour, explicitly set `max_features='sqrt'` or remove this parameter as it is also the default value for RandomForestClassifiers and ExtraTreesClassifiers.\n",
      "  warn(\n",
      "C:\\Users\\33782\\anaconda3\\Lib\\site-packages\\sklearn\\ensemble\\_forest.py:424: FutureWarning: `max_features='auto'` has been deprecated in 1.1 and will be removed in 1.3. To keep the past behaviour, explicitly set `max_features='sqrt'` or remove this parameter as it is also the default value for RandomForestClassifiers and ExtraTreesClassifiers.\n",
      "  warn(\n",
      "C:\\Users\\33782\\anaconda3\\Lib\\site-packages\\sklearn\\ensemble\\_forest.py:424: FutureWarning: `max_features='auto'` has been deprecated in 1.1 and will be removed in 1.3. To keep the past behaviour, explicitly set `max_features='sqrt'` or remove this parameter as it is also the default value for RandomForestClassifiers and ExtraTreesClassifiers.\n",
      "  warn(\n",
      "C:\\Users\\33782\\anaconda3\\Lib\\site-packages\\sklearn\\ensemble\\_forest.py:424: FutureWarning: `max_features='auto'` has been deprecated in 1.1 and will be removed in 1.3. To keep the past behaviour, explicitly set `max_features='sqrt'` or remove this parameter as it is also the default value for RandomForestClassifiers and ExtraTreesClassifiers.\n",
      "  warn(\n",
      "C:\\Users\\33782\\anaconda3\\Lib\\site-packages\\sklearn\\ensemble\\_forest.py:424: FutureWarning: `max_features='auto'` has been deprecated in 1.1 and will be removed in 1.3. To keep the past behaviour, explicitly set `max_features='sqrt'` or remove this parameter as it is also the default value for RandomForestClassifiers and ExtraTreesClassifiers.\n",
      "  warn(\n",
      "C:\\Users\\33782\\anaconda3\\Lib\\site-packages\\sklearn\\ensemble\\_forest.py:424: FutureWarning: `max_features='auto'` has been deprecated in 1.1 and will be removed in 1.3. To keep the past behaviour, explicitly set `max_features='sqrt'` or remove this parameter as it is also the default value for RandomForestClassifiers and ExtraTreesClassifiers.\n",
      "  warn(\n",
      "C:\\Users\\33782\\anaconda3\\Lib\\site-packages\\sklearn\\ensemble\\_forest.py:424: FutureWarning: `max_features='auto'` has been deprecated in 1.1 and will be removed in 1.3. To keep the past behaviour, explicitly set `max_features='sqrt'` or remove this parameter as it is also the default value for RandomForestClassifiers and ExtraTreesClassifiers.\n",
      "  warn(\n",
      "C:\\Users\\33782\\anaconda3\\Lib\\site-packages\\sklearn\\ensemble\\_forest.py:424: FutureWarning: `max_features='auto'` has been deprecated in 1.1 and will be removed in 1.3. To keep the past behaviour, explicitly set `max_features='sqrt'` or remove this parameter as it is also the default value for RandomForestClassifiers and ExtraTreesClassifiers.\n",
      "  warn(\n",
      "C:\\Users\\33782\\anaconda3\\Lib\\site-packages\\sklearn\\ensemble\\_forest.py:424: FutureWarning: `max_features='auto'` has been deprecated in 1.1 and will be removed in 1.3. To keep the past behaviour, explicitly set `max_features='sqrt'` or remove this parameter as it is also the default value for RandomForestClassifiers and ExtraTreesClassifiers.\n",
      "  warn(\n",
      "C:\\Users\\33782\\anaconda3\\Lib\\site-packages\\sklearn\\ensemble\\_forest.py:424: FutureWarning: `max_features='auto'` has been deprecated in 1.1 and will be removed in 1.3. To keep the past behaviour, explicitly set `max_features='sqrt'` or remove this parameter as it is also the default value for RandomForestClassifiers and ExtraTreesClassifiers.\n",
      "  warn(\n",
      "C:\\Users\\33782\\anaconda3\\Lib\\site-packages\\sklearn\\ensemble\\_forest.py:424: FutureWarning: `max_features='auto'` has been deprecated in 1.1 and will be removed in 1.3. To keep the past behaviour, explicitly set `max_features='sqrt'` or remove this parameter as it is also the default value for RandomForestClassifiers and ExtraTreesClassifiers.\n",
      "  warn(\n",
      "C:\\Users\\33782\\anaconda3\\Lib\\site-packages\\sklearn\\ensemble\\_forest.py:424: FutureWarning: `max_features='auto'` has been deprecated in 1.1 and will be removed in 1.3. To keep the past behaviour, explicitly set `max_features='sqrt'` or remove this parameter as it is also the default value for RandomForestClassifiers and ExtraTreesClassifiers.\n",
      "  warn(\n",
      "C:\\Users\\33782\\anaconda3\\Lib\\site-packages\\sklearn\\ensemble\\_forest.py:424: FutureWarning: `max_features='auto'` has been deprecated in 1.1 and will be removed in 1.3. To keep the past behaviour, explicitly set `max_features='sqrt'` or remove this parameter as it is also the default value for RandomForestClassifiers and ExtraTreesClassifiers.\n",
      "  warn(\n",
      "C:\\Users\\33782\\anaconda3\\Lib\\site-packages\\sklearn\\ensemble\\_forest.py:424: FutureWarning: `max_features='auto'` has been deprecated in 1.1 and will be removed in 1.3. To keep the past behaviour, explicitly set `max_features='sqrt'` or remove this parameter as it is also the default value for RandomForestClassifiers and ExtraTreesClassifiers.\n",
      "  warn(\n"
     ]
    },
    {
     "name": "stderr",
     "output_type": "stream",
     "text": [
      "C:\\Users\\33782\\anaconda3\\Lib\\site-packages\\sklearn\\ensemble\\_forest.py:424: FutureWarning: `max_features='auto'` has been deprecated in 1.1 and will be removed in 1.3. To keep the past behaviour, explicitly set `max_features='sqrt'` or remove this parameter as it is also the default value for RandomForestClassifiers and ExtraTreesClassifiers.\n",
      "  warn(\n",
      "C:\\Users\\33782\\anaconda3\\Lib\\site-packages\\sklearn\\ensemble\\_forest.py:424: FutureWarning: `max_features='auto'` has been deprecated in 1.1 and will be removed in 1.3. To keep the past behaviour, explicitly set `max_features='sqrt'` or remove this parameter as it is also the default value for RandomForestClassifiers and ExtraTreesClassifiers.\n",
      "  warn(\n",
      "C:\\Users\\33782\\anaconda3\\Lib\\site-packages\\sklearn\\ensemble\\_forest.py:424: FutureWarning: `max_features='auto'` has been deprecated in 1.1 and will be removed in 1.3. To keep the past behaviour, explicitly set `max_features='sqrt'` or remove this parameter as it is also the default value for RandomForestClassifiers and ExtraTreesClassifiers.\n",
      "  warn(\n",
      "C:\\Users\\33782\\anaconda3\\Lib\\site-packages\\sklearn\\ensemble\\_forest.py:424: FutureWarning: `max_features='auto'` has been deprecated in 1.1 and will be removed in 1.3. To keep the past behaviour, explicitly set `max_features='sqrt'` or remove this parameter as it is also the default value for RandomForestClassifiers and ExtraTreesClassifiers.\n",
      "  warn(\n",
      "C:\\Users\\33782\\anaconda3\\Lib\\site-packages\\sklearn\\ensemble\\_forest.py:424: FutureWarning: `max_features='auto'` has been deprecated in 1.1 and will be removed in 1.3. To keep the past behaviour, explicitly set `max_features='sqrt'` or remove this parameter as it is also the default value for RandomForestClassifiers and ExtraTreesClassifiers.\n",
      "  warn(\n",
      "C:\\Users\\33782\\anaconda3\\Lib\\site-packages\\sklearn\\ensemble\\_forest.py:424: FutureWarning: `max_features='auto'` has been deprecated in 1.1 and will be removed in 1.3. To keep the past behaviour, explicitly set `max_features='sqrt'` or remove this parameter as it is also the default value for RandomForestClassifiers and ExtraTreesClassifiers.\n",
      "  warn(\n",
      "C:\\Users\\33782\\anaconda3\\Lib\\site-packages\\sklearn\\ensemble\\_forest.py:424: FutureWarning: `max_features='auto'` has been deprecated in 1.1 and will be removed in 1.3. To keep the past behaviour, explicitly set `max_features='sqrt'` or remove this parameter as it is also the default value for RandomForestClassifiers and ExtraTreesClassifiers.\n",
      "  warn(\n",
      "C:\\Users\\33782\\anaconda3\\Lib\\site-packages\\sklearn\\ensemble\\_forest.py:424: FutureWarning: `max_features='auto'` has been deprecated in 1.1 and will be removed in 1.3. To keep the past behaviour, explicitly set `max_features='sqrt'` or remove this parameter as it is also the default value for RandomForestClassifiers and ExtraTreesClassifiers.\n",
      "  warn(\n",
      "C:\\Users\\33782\\anaconda3\\Lib\\site-packages\\sklearn\\ensemble\\_forest.py:424: FutureWarning: `max_features='auto'` has been deprecated in 1.1 and will be removed in 1.3. To keep the past behaviour, explicitly set `max_features='sqrt'` or remove this parameter as it is also the default value for RandomForestClassifiers and ExtraTreesClassifiers.\n",
      "  warn(\n",
      "C:\\Users\\33782\\anaconda3\\Lib\\site-packages\\sklearn\\ensemble\\_forest.py:424: FutureWarning: `max_features='auto'` has been deprecated in 1.1 and will be removed in 1.3. To keep the past behaviour, explicitly set `max_features='sqrt'` or remove this parameter as it is also the default value for RandomForestClassifiers and ExtraTreesClassifiers.\n",
      "  warn(\n",
      "C:\\Users\\33782\\anaconda3\\Lib\\site-packages\\sklearn\\ensemble\\_forest.py:424: FutureWarning: `max_features='auto'` has been deprecated in 1.1 and will be removed in 1.3. To keep the past behaviour, explicitly set `max_features='sqrt'` or remove this parameter as it is also the default value for RandomForestClassifiers and ExtraTreesClassifiers.\n",
      "  warn(\n",
      "C:\\Users\\33782\\anaconda3\\Lib\\site-packages\\sklearn\\ensemble\\_forest.py:424: FutureWarning: `max_features='auto'` has been deprecated in 1.1 and will be removed in 1.3. To keep the past behaviour, explicitly set `max_features='sqrt'` or remove this parameter as it is also the default value for RandomForestClassifiers and ExtraTreesClassifiers.\n",
      "  warn(\n",
      "C:\\Users\\33782\\anaconda3\\Lib\\site-packages\\sklearn\\ensemble\\_forest.py:424: FutureWarning: `max_features='auto'` has been deprecated in 1.1 and will be removed in 1.3. To keep the past behaviour, explicitly set `max_features='sqrt'` or remove this parameter as it is also the default value for RandomForestClassifiers and ExtraTreesClassifiers.\n",
      "  warn(\n",
      "C:\\Users\\33782\\anaconda3\\Lib\\site-packages\\sklearn\\ensemble\\_forest.py:424: FutureWarning: `max_features='auto'` has been deprecated in 1.1 and will be removed in 1.3. To keep the past behaviour, explicitly set `max_features='sqrt'` or remove this parameter as it is also the default value for RandomForestClassifiers and ExtraTreesClassifiers.\n",
      "  warn(\n",
      "C:\\Users\\33782\\anaconda3\\Lib\\site-packages\\sklearn\\ensemble\\_forest.py:424: FutureWarning: `max_features='auto'` has been deprecated in 1.1 and will be removed in 1.3. To keep the past behaviour, explicitly set `max_features='sqrt'` or remove this parameter as it is also the default value for RandomForestClassifiers and ExtraTreesClassifiers.\n",
      "  warn(\n",
      "C:\\Users\\33782\\anaconda3\\Lib\\site-packages\\sklearn\\ensemble\\_forest.py:424: FutureWarning: `max_features='auto'` has been deprecated in 1.1 and will be removed in 1.3. To keep the past behaviour, explicitly set `max_features='sqrt'` or remove this parameter as it is also the default value for RandomForestClassifiers and ExtraTreesClassifiers.\n",
      "  warn(\n",
      "C:\\Users\\33782\\anaconda3\\Lib\\site-packages\\sklearn\\ensemble\\_forest.py:424: FutureWarning: `max_features='auto'` has been deprecated in 1.1 and will be removed in 1.3. To keep the past behaviour, explicitly set `max_features='sqrt'` or remove this parameter as it is also the default value for RandomForestClassifiers and ExtraTreesClassifiers.\n",
      "  warn(\n",
      "C:\\Users\\33782\\anaconda3\\Lib\\site-packages\\sklearn\\ensemble\\_forest.py:424: FutureWarning: `max_features='auto'` has been deprecated in 1.1 and will be removed in 1.3. To keep the past behaviour, explicitly set `max_features='sqrt'` or remove this parameter as it is also the default value for RandomForestClassifiers and ExtraTreesClassifiers.\n",
      "  warn(\n",
      "C:\\Users\\33782\\anaconda3\\Lib\\site-packages\\sklearn\\ensemble\\_forest.py:424: FutureWarning: `max_features='auto'` has been deprecated in 1.1 and will be removed in 1.3. To keep the past behaviour, explicitly set `max_features='sqrt'` or remove this parameter as it is also the default value for RandomForestClassifiers and ExtraTreesClassifiers.\n",
      "  warn(\n",
      "C:\\Users\\33782\\anaconda3\\Lib\\site-packages\\sklearn\\ensemble\\_forest.py:424: FutureWarning: `max_features='auto'` has been deprecated in 1.1 and will be removed in 1.3. To keep the past behaviour, explicitly set `max_features='sqrt'` or remove this parameter as it is also the default value for RandomForestClassifiers and ExtraTreesClassifiers.\n",
      "  warn(\n",
      "C:\\Users\\33782\\anaconda3\\Lib\\site-packages\\sklearn\\ensemble\\_forest.py:424: FutureWarning: `max_features='auto'` has been deprecated in 1.1 and will be removed in 1.3. To keep the past behaviour, explicitly set `max_features='sqrt'` or remove this parameter as it is also the default value for RandomForestClassifiers and ExtraTreesClassifiers.\n",
      "  warn(\n",
      "C:\\Users\\33782\\anaconda3\\Lib\\site-packages\\sklearn\\ensemble\\_forest.py:424: FutureWarning: `max_features='auto'` has been deprecated in 1.1 and will be removed in 1.3. To keep the past behaviour, explicitly set `max_features='sqrt'` or remove this parameter as it is also the default value for RandomForestClassifiers and ExtraTreesClassifiers.\n",
      "  warn(\n",
      "C:\\Users\\33782\\anaconda3\\Lib\\site-packages\\sklearn\\ensemble\\_forest.py:424: FutureWarning: `max_features='auto'` has been deprecated in 1.1 and will be removed in 1.3. To keep the past behaviour, explicitly set `max_features='sqrt'` or remove this parameter as it is also the default value for RandomForestClassifiers and ExtraTreesClassifiers.\n",
      "  warn(\n",
      "C:\\Users\\33782\\anaconda3\\Lib\\site-packages\\sklearn\\ensemble\\_forest.py:424: FutureWarning: `max_features='auto'` has been deprecated in 1.1 and will be removed in 1.3. To keep the past behaviour, explicitly set `max_features='sqrt'` or remove this parameter as it is also the default value for RandomForestClassifiers and ExtraTreesClassifiers.\n",
      "  warn(\n"
     ]
    },
    {
     "name": "stderr",
     "output_type": "stream",
     "text": [
      "C:\\Users\\33782\\anaconda3\\Lib\\site-packages\\sklearn\\ensemble\\_forest.py:424: FutureWarning: `max_features='auto'` has been deprecated in 1.1 and will be removed in 1.3. To keep the past behaviour, explicitly set `max_features='sqrt'` or remove this parameter as it is also the default value for RandomForestClassifiers and ExtraTreesClassifiers.\n",
      "  warn(\n",
      "C:\\Users\\33782\\anaconda3\\Lib\\site-packages\\sklearn\\ensemble\\_forest.py:424: FutureWarning: `max_features='auto'` has been deprecated in 1.1 and will be removed in 1.3. To keep the past behaviour, explicitly set `max_features='sqrt'` or remove this parameter as it is also the default value for RandomForestClassifiers and ExtraTreesClassifiers.\n",
      "  warn(\n"
     ]
    },
    {
     "data": {
      "image/png": "[encoded data removed]",
      "text/plain": [
       "<Figure size 800x400 with 1 Axes>"
      ]
     },
     "metadata": {},
     "output_type": "display_data"
    }
   ],
   "source": [
    "learningcurve(best_rf_model)"
   ]
  },
  {
   "cell_type": "code",
   "execution_count": 65,
   "id": "29daa5de",
   "metadata": {},
   "outputs": [
    {
     "data": {
      "image/png": "[encoded data removed]",
      "text/plain": [
       "<Figure size 800x400 with 1 Axes>"
      ]
     },
     "metadata": {},
     "output_type": "display_data"
    }
   ],
   "source": [
    "learningcurve(RandomForest)"
   ]
  }
 ],
 "metadata": {
  "kernelspec": {
   "display_name": "Python 3 (ipykernel)",
   "language": "python",
   "name": "python3"
  },
  "language_info": {
   "codemirror_mode": {
    "name": "ipython",
    "version": 3
   },
   "file_extension": ".py",
   "mimetype": "text/x-python",
   "name": "python",
   "nbconvert_exporter": "python",
   "pygments_lexer": "ipython3",
   "version": "3.11.7"
  }
 },
 "nbformat": 4,
 "nbformat_minor": 5
}
