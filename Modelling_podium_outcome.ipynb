{
 "cells": [
  {
   "cell_type": "markdown",
   "id": "619ed45b",
   "metadata": {},
   "source": [
    "# Modules"
   ]
  },
  {
   "cell_type": "code",
   "execution_count": 135,
   "id": "7d24645a",
   "metadata": {},
   "outputs": [],
   "source": [
    "import numpy as np\n",
    "import pandas as pd\n",
    "import matplotlib.pyplot as plt\n",
    "\n",
    "from imblearn.over_sampling import SMOTE\n",
    "\n",
    "from sklearn.pipeline import make_pipeline\n",
    "from sklearn.preprocessing import StandardScaler, OneHotEncoder\n",
    "from sklearn.ensemble import RandomForestClassifier, AdaBoostClassifier, GradientBoostingClassifier\n",
    "from sklearn.tree import DecisionTreeClassifier\n",
    "from sklearn.svm import SVC\n",
    "from sklearn.linear_model import LogisticRegression\n",
    "from sklearn.neighbors import KNeighborsClassifier\n",
    "from sklearn.metrics import f1_score, confusion_matrix, classification_report\n",
    "from sklearn.model_selection import learning_curve\n",
    "\n",
    "from catboost import CatBoostClassifier\n",
    "import xgboost as xgb\n",
    "\n",
    "import optuna"
   ]
  },
  {
   "cell_type": "markdown",
   "id": "a1fa8ff4",
   "metadata": {},
   "source": [
    "# Processing"
   ]
  },
  {
   "cell_type": "code",
   "execution_count": 136,
   "id": "e815f6b8",
   "metadata": {},
   "outputs": [],
   "source": [
    "df = pd.read_csv(\"C:/Users/33782/Desktop/Mémoire F1/df_final_2.csv\")"
   ]
  },
  {
   "cell_type": "code",
   "execution_count": 137,
   "id": "7a20ab74",
   "metadata": {},
   "outputs": [],
   "source": [
    "# Supposons que vous avez déjà importé votre DataFrame df_final\n",
    "\n",
    "# Sélectionnez les colonnes à encoder\n",
    "columns_to_encode = [\"nationality\"]\n",
    "\n",
    "# Créez une instance de OneHotEncoder\n",
    "encoder = OneHotEncoder(sparse_output=False, handle_unknown='ignore')\n",
    "\n",
    "# Adapter et transformer les colonnes sélectionnées\n",
    "encoded_data = encoder.fit_transform(df[columns_to_encode])\n",
    "\n",
    "# Créez un DataFrame avec les données encodées\n",
    "encoded_df = pd.DataFrame(encoded_data, columns=encoder.get_feature_names_out(columns_to_encode))\n",
    "\n",
    "# Supprimez les colonnes encodées du DataFrame d'origine\n",
    "df.drop(columns=columns_to_encode, inplace=True)\n",
    "\n",
    "# Concaténez le DataFrame original avec le DataFrame encodé\n",
    "df_final = pd.concat([df, encoded_df], axis=1)"
   ]
  },
  {
   "cell_type": "code",
   "execution_count": 138,
   "id": "cace0048",
   "metadata": {},
   "outputs": [],
   "source": [
    "df_final.drop(columns=\"positionOrder\", inplace=True)"
   ]
  },
  {
   "cell_type": "code",
   "execution_count": 139,
   "id": "3a4cdf74",
   "metadata": {},
   "outputs": [],
   "source": [
    "# Create a list of columns excluding the one to move\n",
    "cols = [col for col in df_final.columns if col != 'Top 3 Finish']\n",
    "\n",
    "# Append the column to the end of the DataFrame\n",
    "df_final = df_final[cols + ['Top 3 Finish']]"
   ]
  },
  {
   "cell_type": "code",
   "execution_count": 140,
   "id": "e924f915",
   "metadata": {},
   "outputs": [],
   "source": [
    "train_df = df_final[(df_final[\"year\"] >= 2012) & (df_final[\"year\"] <= 2022)]\n",
    "test_df = df_final[(df_final[\"year\"] == 2023)]\n",
    "\n",
    "\n",
    "X_train = train_df[train_df.columns.tolist()[:-1]].values\n",
    "y_train = train_df['Top 3 Finish'].values\n",
    "\n",
    "\n",
    "X_test = test_df[train_df.columns.tolist()[:-1]].values\n",
    "y_test = test_df['Top 3 Finish'].values"
   ]
  },
  {
   "cell_type": "code",
   "execution_count": 141,
   "id": "478ea635",
   "metadata": {},
   "outputs": [],
   "source": [
    "smote = SMOTE(random_state=42)\n",
    "X_train_resampled, y_train_resampled = smote.fit_resample(X_train, y_train)"
   ]
  },
  {
   "cell_type": "code",
   "execution_count": 114,
   "id": "e55220f9",
   "metadata": {},
   "outputs": [],
   "source": [
    "# Normaliser les caractéristiques\n",
    "scaler = StandardScaler()\n",
    "X_train_scaled = scaler.fit_transform(X_train_resampled)\n",
    "X_test_scaled = scaler.transform(X_test)"
   ]
  },
  {
   "cell_type": "code",
   "execution_count": 142,
   "id": "d703bc2f",
   "metadata": {},
   "outputs": [],
   "source": [
    "scaler = StandardScaler()\n",
    "X_train_scaled = scaler.fit_transform(X_train_resampled)"
   ]
  },
  {
   "cell_type": "code",
   "execution_count": 143,
   "id": "45129540",
   "metadata": {},
   "outputs": [
    {
     "data": {
      "text/plain": [
       "['scaler_GB.joblib']"
      ]
     },
     "execution_count": 143,
     "metadata": {},
     "output_type": "execute_result"
    }
   ],
   "source": [
    "joblib.dump(scaler, 'scaler_GB.joblib')"
   ]
  },
  {
   "cell_type": "markdown",
   "id": "618d8868",
   "metadata": {},
   "source": [
    "# Procédure d'évaluation"
   ]
  },
  {
   "cell_type": "code",
   "execution_count": 115,
   "id": "cff33d8a",
   "metadata": {},
   "outputs": [],
   "source": [
    "comparison_dict ={'model':[],\n",
    "                  'score': []}"
   ]
  },
  {
   "cell_type": "code",
   "execution_count": 116,
   "id": "ef3d34f6",
   "metadata": {},
   "outputs": [],
   "source": [
    "def evaluation(model):\n",
    "    \n",
    "    model.fit(X_train_scaled,y_train_resampled)\n",
    "    y_pred = model.predict(X_test_scaled)\n",
    "    score = round(f1_score(y_test, y_pred),2)\n",
    "    \n",
    "    comparison_dict['score'].append(score)\n",
    "    \n",
    "    print(confusion_matrix(y_test, y_pred))\n",
    "    print(classification_report(y_test, y_pred))\n",
    "    \n",
    "    #N, train_score, val_score = learning_curve(model, X_train_scaled, y_train_resampled,\n",
    "                                              #cv=8, scoring = \"f1\",\n",
    "                                              #train_sizes = np.linspace(0.1,1,10))\n",
    "    \n",
    "    #plt.figure(figsize=(12,8))\n",
    "    #plt.plot(N, train_score.mean(axis=1), label=\"Train score\")\n",
    "    #plt.plot(N, val_score.mean(axis=1), label=\"Validation score\")\n",
    "    #plt.legend(loc=\"best\")"
   ]
  },
  {
   "cell_type": "code",
   "execution_count": 25,
   "id": "a5c1905e",
   "metadata": {},
   "outputs": [],
   "source": [
    "def learningcurve(title, model):\n",
    "    \n",
    "    \n",
    "    train_sizes, train_scores, valid_scores = learning_curve(model,\n",
    "                                                             X_train_scaled,\n",
    "                                                             y_train_resampled,\n",
    "                                                             train_sizes=[i/10 for i in range(1,11)])\n",
    "\n",
    "    plt.figure(figsize=(9,3))\n",
    "    plt.plot(train_sizes, train_scores.mean(axis=1), label='training',marker='.', color='blue')\n",
    "    plt.plot(train_sizes, valid_scores.mean(axis=1), label='validaiton',marker='.', color='orange')\n",
    "    plt.title(f\"Learning curve of the {title} model\")\n",
    "    plt.legend(loc='best')\n",
    "    plt.ylim(0,1)\n",
    "    plt.savefig(f'C:/Users/33782/Desktop/Mémoire F1/Learning curve/{title}.png')"
   ]
  },
  {
   "cell_type": "markdown",
   "id": "7e490217",
   "metadata": {},
   "source": [
    "# Modèles"
   ]
  },
  {
   "cell_type": "code",
   "execution_count": 117,
   "id": "787244c6",
   "metadata": {},
   "outputs": [],
   "source": [
    "AdaBoost = AdaBoostClassifier(n_estimators=160,\n",
    "                              learning_rate=0.15826735517631804,\n",
    "                              algorithm='SAMME.R',\n",
    "                              random_state=42)\n",
    "\n",
    "CatBoost = CatBoostClassifier(iterations=355,\n",
    "                              learning_rate=0.0016319372622323079,\n",
    "                              depth=10,\n",
    "                              l2_leaf_reg=1.0615624230812226,\n",
    "                              verbose=0,\n",
    "                              random_state=42)\n",
    "\n",
    "GB = GradientBoostingClassifier(learning_rate=0.0019772333924089505,\n",
    "                                n_estimators=191,\n",
    "                                max_depth=9,\n",
    "                                min_samples_split=8,\n",
    "                                min_samples_leaf=5,\n",
    "                                random_state=42)\n",
    "\n",
    "XGBoost = xgb.XGBClassifier(learning_rate= 0.004600984662122648,\n",
    "                            n_estimators= 329,\n",
    "                            max_depth= 8,\n",
    "                            subsample= 1,\n",
    "                            colsample_bytree= 1,\n",
    "                            gamma= 0)\n",
    "\n",
    "DecisionTree = DecisionTreeClassifier(max_depth=7,\n",
    "                                      min_samples_split=17,\n",
    "                                      min_samples_leaf=2,\n",
    "                                      max_features=None,\n",
    "                                      random_state=42)\n",
    "\n",
    "RandomForest = RandomForestClassifier(n_estimators= 720,\n",
    "                                      max_depth= 9,\n",
    "                                      min_samples_split= 5,\n",
    "                                      min_samples_leaf= 2,\n",
    "                                      max_features= None)\n",
    "\n",
    "SupportVectorMachine = SVC(C=11.465875266742808,\n",
    "                           kernel='linear',\n",
    "                           gamma='auto',\n",
    "                           random_state=42)"
   ]
  },
  {
   "cell_type": "code",
   "execution_count": 123,
   "id": "418d41fa",
   "metadata": {},
   "outputs": [
    {
     "name": "stdout",
     "output_type": "stream",
     "text": [
      "[[346  28]\n",
      " [ 17  49]]\n",
      "              precision    recall  f1-score   support\n",
      "\n",
      "           0       0.95      0.93      0.94       374\n",
      "           1       0.64      0.74      0.69        66\n",
      "\n",
      "    accuracy                           0.90       440\n",
      "   macro avg       0.79      0.83      0.81       440\n",
      "weighted avg       0.91      0.90      0.90       440\n",
      "\n"
     ]
    }
   ],
   "source": [
    "evaluation(GB)"
   ]
  },
  {
   "cell_type": "code",
   "execution_count": 73,
   "id": "968930dc",
   "metadata": {},
   "outputs": [
    {
     "data": {
      "image/png": "[encoded data removed]",
      "text/plain": [
       "<Figure size 432x288 with 1 Axes>"
      ]
     },
     "metadata": {},
     "output_type": "display_data"
    }
   ],
   "source": [
    "importances = GB.feature_importances_\n",
    "feature_importance_df = pd.DataFrame({\n",
    "    'feature': cols,\n",
    "    'importance': importances\n",
    "}).sort_values(by='importance', ascending=False).head(5)\n",
    "\n",
    "ax =feature_importance_df.plot(kind='barh', x='feature', y='importance', color = 'grey')\n",
    "ax.invert_yaxis()\n",
    "\n",
    "plt.xlabel('Importance')\n",
    "plt.ylabel('Feature')\n",
    "plt.title('Top 5 Feature Importances')\n",
    "plt.show()"
   ]
  },
  {
   "cell_type": "code",
   "execution_count": 63,
   "id": "27e6391b",
   "metadata": {},
   "outputs": [
    {
     "data": {
      "text/html": [
       "<div>\n",
       "<style scoped>\n",
       "    .dataframe tbody tr th:only-of-type {\n",
       "        vertical-align: middle;\n",
       "    }\n",
       "\n",
       "    .dataframe tbody tr th {\n",
       "        vertical-align: top;\n",
       "    }\n",
       "\n",
       "    .dataframe thead th {\n",
       "        text-align: right;\n",
       "    }\n",
       "</style>\n",
       "<table border=\"1\" class=\"dataframe\">\n",
       "  <thead>\n",
       "    <tr style=\"text-align: right;\">\n",
       "      <th></th>\n",
       "      <th>feature</th>\n",
       "      <th>importance</th>\n",
       "    </tr>\n",
       "  </thead>\n",
       "  <tbody>\n",
       "    <tr>\n",
       "      <th>9</th>\n",
       "      <td>Driver podium rate (This Year until last race)</td>\n",
       "      <td>0.660268</td>\n",
       "    </tr>\n",
       "    <tr>\n",
       "      <th>4</th>\n",
       "      <td>Starting position</td>\n",
       "      <td>0.183809</td>\n",
       "    </tr>\n",
       "    <tr>\n",
       "      <th>18</th>\n",
       "      <td>weather_warm</td>\n",
       "      <td>0.021071</td>\n",
       "    </tr>\n",
       "    <tr>\n",
       "      <th>22</th>\n",
       "      <td>weather_cloudy</td>\n",
       "      <td>0.017599</td>\n",
       "    </tr>\n",
       "    <tr>\n",
       "      <th>2</th>\n",
       "      <td>round</td>\n",
       "      <td>0.012609</td>\n",
       "    </tr>\n",
       "  </tbody>\n",
       "</table>\n",
       "</div>"
      ],
      "text/plain": [
       "                                           feature  importance\n",
       "9   Driver podium rate (This Year until last race)    0.660268\n",
       "4                                Starting position    0.183809\n",
       "18                                    weather_warm    0.021071\n",
       "22                                  weather_cloudy    0.017599\n",
       "2                                            round    0.012609"
      ]
     },
     "execution_count": 63,
     "metadata": {},
     "output_type": "execute_result"
    }
   ],
   "source": [
    "feature_importance_df"
   ]
  },
  {
   "cell_type": "code",
   "execution_count": 85,
   "id": "72430394",
   "metadata": {},
   "outputs": [],
   "source": [
    "dict_of_models = {\"AdaBoost\" : AdaBoost,\n",
    "                  \"CatBoost\" : CatBoost,\n",
    "                  \"GradientBoosting\" : GB,\n",
    "                  \"XGBoost\" : XGBoost,\n",
    "                  \"DecisionTree\" : DecisionTree,\n",
    "                  \"RandomForest\" : RandomForest,\n",
    "                  \"SVM\" : SupportVectorMachine}"
   ]
  },
  {
   "cell_type": "markdown",
   "id": "0deda715",
   "metadata": {},
   "source": [
    "# Evaluation"
   ]
  },
  {
   "cell_type": "code",
   "execution_count": 86,
   "id": "523fec3f",
   "metadata": {},
   "outputs": [
    {
     "name": "stdout",
     "output_type": "stream",
     "text": [
      "------------------------------------------------------\n",
      "\u001b[1mAdaBoost\u001b[0m\n",
      "------------------------------------------------------\n",
      "[[339  35]\n",
      " [ 14  52]]\n",
      "              precision    recall  f1-score   support\n",
      "\n",
      "           0       0.96      0.91      0.93       374\n",
      "           1       0.60      0.79      0.68        66\n",
      "\n",
      "    accuracy                           0.89       440\n",
      "   macro avg       0.78      0.85      0.81       440\n",
      "weighted avg       0.91      0.89      0.89       440\n",
      "\n",
      "------------------------------------------------------\n",
      "\u001b[1mCatBoost\u001b[0m\n",
      "------------------------------------------------------\n",
      "[[338  36]\n",
      " [ 14  52]]\n",
      "              precision    recall  f1-score   support\n",
      "\n",
      "           0       0.96      0.90      0.93       374\n",
      "           1       0.59      0.79      0.68        66\n",
      "\n",
      "    accuracy                           0.89       440\n",
      "   macro avg       0.78      0.85      0.80       440\n",
      "weighted avg       0.90      0.89      0.89       440\n",
      "\n",
      "------------------------------------------------------\n",
      "\u001b[1mGradientBoosting\u001b[0m\n",
      "------------------------------------------------------\n",
      "[[346  28]\n",
      " [ 17  49]]\n",
      "              precision    recall  f1-score   support\n",
      "\n",
      "           0       0.95      0.93      0.94       374\n",
      "           1       0.64      0.74      0.69        66\n",
      "\n",
      "    accuracy                           0.90       440\n",
      "   macro avg       0.79      0.83      0.81       440\n",
      "weighted avg       0.91      0.90      0.90       440\n",
      "\n",
      "------------------------------------------------------\n",
      "\u001b[1mXGBoost\u001b[0m\n",
      "------------------------------------------------------\n",
      "[[352  22]\n",
      " [ 21  45]]\n",
      "              precision    recall  f1-score   support\n",
      "\n",
      "           0       0.94      0.94      0.94       374\n",
      "           1       0.67      0.68      0.68        66\n",
      "\n",
      "    accuracy                           0.90       440\n",
      "   macro avg       0.81      0.81      0.81       440\n",
      "weighted avg       0.90      0.90      0.90       440\n",
      "\n",
      "------------------------------------------------------\n",
      "\u001b[1mDecisionTree\u001b[0m\n",
      "------------------------------------------------------\n",
      "[[322  52]\n",
      " [ 16  50]]\n",
      "              precision    recall  f1-score   support\n",
      "\n",
      "           0       0.95      0.86      0.90       374\n",
      "           1       0.49      0.76      0.60        66\n",
      "\n",
      "    accuracy                           0.85       440\n",
      "   macro avg       0.72      0.81      0.75       440\n",
      "weighted avg       0.88      0.85      0.86       440\n",
      "\n",
      "------------------------------------------------------\n",
      "\u001b[1mRandomForest\u001b[0m\n",
      "------------------------------------------------------\n",
      "[[350  24]\n",
      " [ 25  41]]\n",
      "              precision    recall  f1-score   support\n",
      "\n",
      "           0       0.93      0.94      0.93       374\n",
      "           1       0.63      0.62      0.63        66\n",
      "\n",
      "    accuracy                           0.89       440\n",
      "   macro avg       0.78      0.78      0.78       440\n",
      "weighted avg       0.89      0.89      0.89       440\n",
      "\n",
      "------------------------------------------------------\n",
      "\u001b[1mSVM\u001b[0m\n",
      "------------------------------------------------------\n",
      "[[326  48]\n",
      " [ 16  50]]\n",
      "              precision    recall  f1-score   support\n",
      "\n",
      "           0       0.95      0.87      0.91       374\n",
      "           1       0.51      0.76      0.61        66\n",
      "\n",
      "    accuracy                           0.85       440\n",
      "   macro avg       0.73      0.81      0.76       440\n",
      "weighted avg       0.89      0.85      0.87       440\n",
      "\n"
     ]
    }
   ],
   "source": [
    "for key, value in dict_of_models.items():\n",
    "    print('------------------------------------------------------')\n",
    "    print(\"\\033[1m\" + key + \"\\033[0m\")\n",
    "    print('------------------------------------------------------')\n",
    "    evaluation(value)\n",
    "    comparison_dict['model'].append(key)"
   ]
  },
  {
   "cell_type": "code",
   "execution_count": 106,
   "id": "15e31e2b",
   "metadata": {},
   "outputs": [
    {
     "data": {
      "image/png": "[encoded data removed]",
      "text/plain": [
       "<Figure size 720x432 with 1 Axes>"
      ]
     },
     "metadata": {},
     "output_type": "display_data"
    }
   ],
   "source": [
    "import matplotlib.pyplot as plt\n",
    "\n",
    "# Données à partir du dictionnaire\n",
    "models = comparison_dict['model']\n",
    "scores = comparison_dict['score']\n",
    "\n",
    "# Création du diagramme en barres avec des nuances de gris\n",
    "plt.figure(figsize=(10, 6))\n",
    "\n",
    "# Définir un motif de remplissage commun pour tous les modèles spécifiés\n",
    "pattern = '///'  \n",
    "\n",
    "bars = plt.bar(models, scores, color='white', edgecolor='black')\n",
    "\n",
    "# Ajouter le motif de remplissage uniquement aux modèles spécifiés\n",
    "specified_models = ['AdaBoost', 'CatBoost', 'XGBoost', 'DecisionTree']\n",
    "for bar, model in zip(bars, models):\n",
    "    if model in specified_models:\n",
    "        bar.set_hatch(pattern)\n",
    "    elif model in ['GradientBoosting', 'RandomForest', 'SVM']:\n",
    "        bar.set_color('grey')\n",
    "\n",
    "plt.ylim(0, 1)\n",
    "# Ajout de titres et de libellés\n",
    "plt.title('Precision')\n",
    "plt.xlabel('Model')\n",
    "plt.ylabel('F1 Score')\n",
    "\n",
    "# Affichage du diagramme\n",
    "plt.show()\n"
   ]
  },
  {
   "cell_type": "markdown",
   "id": "2a378cce",
   "metadata": {},
   "source": [
    "# Boosting model only"
   ]
  },
  {
   "cell_type": "code",
   "execution_count": null,
   "id": "29641fc7",
   "metadata": {},
   "outputs": [],
   "source": [
    "dict_of_Boosting = {\"AdaBoost\" : AdaBoost,\n",
    "                  \"CatBoost\" : CatBoost,\n",
    "                  \"GradientBoosting\" : GB,\n",
    "                  \"XGBoost\" : XGBoost}"
   ]
  },
  {
   "cell_type": "code",
   "execution_count": null,
   "id": "39c543a7",
   "metadata": {},
   "outputs": [],
   "source": [
    "comparison_dict ={'model':[],\n",
    "                  'score': []}"
   ]
  },
  {
   "cell_type": "code",
   "execution_count": null,
   "id": "3f23e0e1",
   "metadata": {},
   "outputs": [],
   "source": [
    "for key, value in dict_of_Boosting.items():\n",
    "    print('------------------------------------------------------')\n",
    "    print(\"\\033[1m\" + key + \"\\033[0m\")\n",
    "    print('------------------------------------------------------')\n",
    "    evaluation(value)\n",
    "    comparison_dict['model'].append(key)"
   ]
  },
  {
   "cell_type": "code",
   "execution_count": null,
   "id": "7acbc496",
   "metadata": {},
   "outputs": [],
   "source": [
    "# Données à partir du dictionnaire\n",
    "models = comparison_dict['model']\n",
    "scores = comparison_dict['score']\n",
    "\n",
    "# Création du diagramme en barres avec des nuances de gris\n",
    "plt.figure(figsize=(10, 6))\n",
    "bars = plt.bar(models, scores, color='gray')\n",
    "\n",
    "plt.ylim(0,1)\n",
    "# Ajout de titres et de libellés\n",
    "plt.title('Precision')\n",
    "plt.xlabel('Model')\n",
    "plt.ylabel('F1 Score')\n",
    "\n",
    "# Affichage du diagramme\n",
    "plt.show()"
   ]
  },
  {
   "cell_type": "markdown",
   "id": "6ffbd896",
   "metadata": {},
   "source": [
    "# Bagging model only"
   ]
  },
  {
   "cell_type": "code",
   "execution_count": null,
   "id": "a78dfb6f",
   "metadata": {},
   "outputs": [],
   "source": [
    "dict_of_Bagging = {\"DecisionTree\" : DecisionTree,\n",
    "                  \"RandomForest\" : RandomForest}"
   ]
  },
  {
   "cell_type": "code",
   "execution_count": null,
   "id": "0aae300a",
   "metadata": {},
   "outputs": [],
   "source": [
    "comparison_dict ={'model':[],\n",
    "                  'score': []}"
   ]
  },
  {
   "cell_type": "code",
   "execution_count": null,
   "id": "df081649",
   "metadata": {},
   "outputs": [],
   "source": [
    "for key, value in dict_of_Bagging.items():\n",
    "    print('------------------------------------------------------')\n",
    "    print(\"\\033[1m\" + key + \"\\033[0m\")\n",
    "    print('------------------------------------------------------')\n",
    "    evaluation(value)\n",
    "    comparison_dict['model'].append(key)"
   ]
  },
  {
   "cell_type": "code",
   "execution_count": null,
   "id": "3e43cacb",
   "metadata": {},
   "outputs": [],
   "source": [
    "# Données à partir du dictionnaire\n",
    "models = comparison_dict['model']\n",
    "scores = comparison_dict['score']\n",
    "\n",
    "# Création du diagramme en barres avec des nuances de gris\n",
    "plt.figure(figsize=(10, 6))\n",
    "bars = plt.bar(models, scores, color='gray')\n",
    "\n",
    "plt.ylim(0, max(scores) * 1.25)\n",
    "# Ajout de titres et de libellés\n",
    "plt.title('Precision')\n",
    "plt.xlabel('Model')\n",
    "plt.ylabel('F1 Score')\n",
    "\n",
    "# Affichage du diagramme\n",
    "plt.show()"
   ]
  },
  {
   "cell_type": "markdown",
   "id": "1c394424",
   "metadata": {},
   "source": [
    "# Learning Curve"
   ]
  },
  {
   "cell_type": "code",
   "execution_count": null,
   "id": "89f9c4b4",
   "metadata": {},
   "outputs": [],
   "source": [
    "## Code that plot learning curve\n",
    "## No need to relaunch. Run the next following code to load the learning curve\n",
    "\n",
    "##for key, value in dict_of_models.items():\n",
    "##    print('------------------------------------------------------')\n",
    "##    print(\"\\033[1m\" + key + \"\\033[0m\")\n",
    "##    print('------------------------------------------------------')\n",
    "##    learningcurve(key,value)"
   ]
  },
  {
   "cell_type": "code",
   "execution_count": 16,
   "id": "773a8a88",
   "metadata": {},
   "outputs": [
    {
     "data": {
      "image/png": "[encoded data removed]",
      "text/plain": [
       "<Figure size 1200x1200 with 8 Axes>"
      ]
     },
     "metadata": {},
     "output_type": "display_data"
    }
   ],
   "source": [
    "from IPython.display import Image, display\n",
    "from PIL import Image as PILImage\n",
    "import matplotlib.pyplot as plt\n",
    "\n",
    "image1 = PILImage.open('C:/Users/33782/Desktop/Mémoire F1/Learning curve/AdaBoost.png')\n",
    "image2 = PILImage.open('C:/Users/33782/Desktop/Mémoire F1/Learning curve/CatBoost.png')\n",
    "image3 = PILImage.open('C:/Users/33782/Desktop/Mémoire F1/Learning curve/GradientBoosting.png')\n",
    "image4 = PILImage.open('C:/Users/33782/Desktop/Mémoire F1/Learning curve/XGBoost.png')\n",
    "image5 = PILImage.open('C:/Users/33782/Desktop/Mémoire F1/Learning curve/RandomForest.png')\n",
    "image6 = PILImage.open('C:/Users/33782/Desktop/Mémoire F1/Learning curve/DecisionTree.png')\n",
    "image7 = PILImage.open('C:/Users/33782/Desktop/Mémoire F1/Learning curve/SVM.png')\n",
    "\n",
    "fig, axs = plt.subplots(4, 2, figsize=(12, 12))\n",
    "\n",
    "axs[0,0].imshow(image1)\n",
    "axs[0,0].axis('off')\n",
    "axs[0,1].imshow(image2)\n",
    "axs[0,1].axis('off')\n",
    "axs[1,0].imshow(image3)\n",
    "axs[1,0].axis('off')\n",
    "axs[1,1].imshow(image4)\n",
    "axs[1,1].axis('off')\n",
    "axs[2,0].imshow(image5)\n",
    "axs[2,0].axis('off')\n",
    "axs[2,1].imshow(image6)\n",
    "axs[2,1].axis('off')\n",
    "axs[3,0].imshow(image7)\n",
    "axs[3,0].axis('off')\n",
    "axs[3, 1].axis('off')\n",
    "plt.show()"
   ]
  },
  {
   "cell_type": "code",
   "execution_count": 118,
   "id": "33e9490c",
   "metadata": {},
   "outputs": [],
   "source": [
    "import joblib"
   ]
  },
  {
   "cell_type": "code",
   "execution_count": 124,
   "id": "2b2808b4",
   "metadata": {},
   "outputs": [
    {
     "data": {
      "text/plain": [
       "['GB.joblib']"
      ]
     },
     "execution_count": 124,
     "metadata": {},
     "output_type": "execute_result"
    }
   ],
   "source": [
    "joblib.dump(GB, 'GB.joblib')"
   ]
  },
  {
   "cell_type": "code",
   "execution_count": 125,
   "id": "1d965e5e",
   "metadata": {},
   "outputs": [],
   "source": [
    "model = joblib.load('GB.joblib')"
   ]
  },
  {
   "cell_type": "code",
   "execution_count": 134,
   "id": "3a5fe403",
   "metadata": {},
   "outputs": [
    {
     "data": {
      "text/plain": [
       "weather_warm\n",
       "0    16761\n",
       "1     9638\n",
       "Name: count, dtype: int64"
      ]
     },
     "execution_count": 134,
     "metadata": {},
     "output_type": "execute_result"
    }
   ],
   "source": []
  },
  {
   "cell_type": "code",
   "execution_count": 126,
   "id": "0cbb0a35",
   "metadata": {},
   "outputs": [
    {
     "data": {
      "text/plain": [
       "array([0, 0, 0, 0, 0, 0, 0, 1, 0, 0, 0, 0, 0, 0, 1, 1, 0, 0, 0, 0, 0, 0,\n",
       "       0, 1, 0, 0, 0, 0, 0, 0, 1, 0, 0, 0, 1, 0, 0, 0, 0, 0, 0, 0, 1, 1,\n",
       "       0, 0, 0, 0, 0, 0, 0, 0, 0, 0, 0, 1, 0, 0, 0, 0, 0, 0, 1, 0, 0, 0,\n",
       "       0, 1, 0, 0, 1, 0, 0, 0, 1, 1, 0, 0, 0, 0, 0, 0, 0, 1, 0, 0, 0, 0,\n",
       "       0, 0, 1, 0, 0, 0, 1, 1, 0, 0, 0, 0, 0, 0, 1, 1, 0, 0, 0, 0, 1, 0,\n",
       "       1, 0, 0, 0, 1, 1, 0, 0, 0, 0, 0, 0, 0, 0, 0, 0, 1, 0, 0, 0, 0, 0,\n",
       "       0, 0, 0, 1, 0, 0, 0, 0, 0, 0, 1, 0, 0, 0, 0, 0, 0, 0, 1, 0, 0, 0,\n",
       "       0, 1, 0, 0, 0, 0, 0, 0, 0, 0, 0, 0, 0, 0, 0, 0, 1, 0, 0, 0, 0, 1,\n",
       "       0, 0, 0, 0, 0, 0, 0, 0, 0, 0, 0, 0, 0, 0, 1, 0, 0, 0, 0, 1, 0, 0,\n",
       "       0, 0, 1, 0, 1, 0, 0, 0, 0, 0, 0, 0, 0, 0, 0, 0, 1, 1, 0, 0, 0, 0,\n",
       "       0, 0, 0, 0, 0, 0, 1, 1, 0, 0, 0, 0, 0, 0, 1, 1, 0, 0, 0, 0, 1, 0,\n",
       "       0, 0, 0, 0, 0, 0, 0, 0, 0, 0, 0, 0, 0, 1, 0, 0, 0, 0, 0, 0, 0, 0,\n",
       "       0, 0, 1, 1, 0, 0, 0, 0, 0, 0, 0, 1, 0, 0, 0, 0, 1, 0, 0, 1, 0, 0,\n",
       "       1, 1, 0, 0, 0, 0, 0, 0, 0, 1, 0, 0, 0, 0, 1, 1, 0, 0, 0, 0, 0, 1,\n",
       "       0, 0, 0, 0, 0, 0, 0, 1, 0, 0, 0, 0, 0, 0, 1, 1, 0, 0, 0, 0, 0, 0,\n",
       "       0, 0, 0, 0, 0, 1, 0, 0, 0, 0, 1, 0, 1, 0, 0, 0, 1, 1, 0, 0, 0, 0,\n",
       "       0, 0, 1, 1, 0, 0, 0, 0, 0, 0, 1, 0, 0, 0, 1, 1, 0, 0, 0, 0, 0, 0,\n",
       "       0, 1, 0, 0, 0, 0, 0, 0, 0, 0, 0, 0, 0, 0, 0, 0, 1, 0, 0, 0, 1, 1,\n",
       "       0, 0, 0, 0, 0, 0, 0, 0, 0, 0, 0, 1, 0, 0, 0, 0, 0, 0, 1, 1, 0, 0,\n",
       "       0, 0, 0, 0, 0, 0, 0, 0, 0, 1, 0, 0, 0, 0, 0, 0, 1, 1, 0, 0, 0, 0],\n",
       "      dtype=int64)"
      ]
     },
     "execution_count": 126,
     "metadata": {},
     "output_type": "execute_result"
    }
   ],
   "source": [
    "yhat = model.predict(X_test_scaled)\n",
    "yhat"
   ]
  }
 ],
 "metadata": {
  "kernelspec": {
   "display_name": "Python 3 (Spyder)",
   "language": "python3",
   "name": "python3"
  },
  "language_info": {
   "codemirror_mode": {
    "name": "ipython",
    "version": 3
   },
   "file_extension": ".py",
   "mimetype": "text/x-python",
   "name": "python",
   "nbconvert_exporter": "python",
   "pygments_lexer": "ipython3",
   "version": "3.11.7"
  }
 },
 "nbformat": 4,
 "nbformat_minor": 5
}
