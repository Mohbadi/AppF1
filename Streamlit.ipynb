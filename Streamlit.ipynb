{
 "cells": [
  {
   "cell_type": "code",
   "execution_count": null,
   "id": "916c97d7",
   "metadata": {},
   "outputs": [],
   "source": [
    "import streamlit as st\n",
    "\n",
    "# Page d'accueil\n",
    "def accueil():\n",
    "    st.title(\"Bienvenue sur notre application de Formule 1\")\n",
    "    st.write(\"Sélectionnez une option dans la barre latérale pour commencer.\")\n",
    "\n",
    "# Onglet de la saison actuelle\n",
    "def saison_actuelle():\n",
    "    st.title(\"Saison Actuelle\")\n",
    "    # Ajoutez ici votre code pour afficher les informations sur la saison actuelle\n",
    "\n",
    "# Onglet des stats des pilotes\n",
    "def stats_pilotes():\n",
    "    st.title(\"Statistiques des Pilotes\")\n",
    "    # Ajoutez ici votre code pour afficher les statistiques des pilotes\n",
    "\n",
    "# Onglet des stats des constructeurs\n",
    "def stats_constructeurs():\n",
    "    st.title(\"Statistiques des Constructeurs\")\n",
    "    # Ajoutez ici votre code pour afficher les statistiques des constructeurs\n",
    "\n",
    "# Onglet des circuits\n",
    "def circuits():\n",
    "    st.title(\"Circuits\")\n",
    "    # Ajoutez ici votre code pour afficher les informations sur les circuits\n",
    "\n",
    "# Barre de sélection pour les onglets\n",
    "selection = st.sidebar.radio(\"Navigation\", (\"Accueil\", \"Saison Actuelle\", \"Stats Pilotes\", \"Stats Constructeurs\", \"Circuits\"))\n",
    "\n",
    "# Affichage du contenu en fonction de l'onglet sélectionné\n",
    "if selection == \"Accueil\":\n",
    "    accueil()\n",
    "elif selection == \"Saison Actuelle\":\n",
    "    saison_actuelle()\n",
    "elif selection == \"Stats Pilotes\":\n",
    "    stats_pilotes()\n",
    "elif selection == \"Stats Constructeurs\":\n",
    "    stats_constructeurs()\n",
    "elif selection == \"Circuits\":\n",
    "    circuits()\n",
    "\n"
   ]
  },
  {
   "cell_type": "code",
   "execution_count": null,
   "id": "b4e27eb8",
   "metadata": {},
   "outputs": [],
   "source": [
    "!streamlit run Streamlit.py"
   ]
  }
 ],
 "metadata": {
  "kernelspec": {
   "display_name": "Python 3 (ipykernel)",
   "language": "python",
   "name": "python3"
  },
  "language_info": {
   "codemirror_mode": {
    "name": "ipython",
    "version": 3
   },
   "file_extension": ".py",
   "mimetype": "text/x-python",
   "name": "python",
   "nbconvert_exporter": "python",
   "pygments_lexer": "ipython3",
   "version": "3.9.19"
  }
 },
 "nbformat": 4,
 "nbformat_minor": 5
}
